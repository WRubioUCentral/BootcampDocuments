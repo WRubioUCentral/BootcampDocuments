{
 "cells": [
  {
   "cell_type": "code",
   "execution_count": 43,
   "id": "f2409712-1b9f-4de7-919e-725eb6bc26e7",
   "metadata": {},
   "outputs": [],
   "source": [
    "def saludar(nombre = \"'Ingresar nombre'\"):\n",
    "    print(\"Hola, cómo estás\", nombre, \"?\")"
   ]
  },
  {
   "cell_type": "code",
   "execution_count": 48,
   "id": "f15b931d-b47d-4495-a1b2-88a5159660ff",
   "metadata": {},
   "outputs": [
    {
     "name": "stdout",
     "output_type": "stream",
     "text": [
      "Hola, cómo estás 'Ingresar nombre' ?\n"
     ]
    }
   ],
   "source": [
    "saludar()"
   ]
  },
  {
   "cell_type": "code",
   "execution_count": 55,
   "id": "b4b49327-fb4e-41c3-96a7-edd0b711fb5f",
   "metadata": {},
   "outputs": [],
   "source": [
    "def suma_al_gusto(n):\n",
    "    for i in range(n+1):\n",
    "        print(i)"
   ]
  },
  {
   "cell_type": "code",
   "execution_count": 67,
   "id": "e0fd48a0-6f72-4bd7-888f-898d2dbd8391",
   "metadata": {},
   "outputs": [
    {
     "name": "stdout",
     "output_type": "stream",
     "text": [
      "0\n",
      "1\n",
      "2\n",
      "3\n",
      "4\n",
      "5\n"
     ]
    }
   ],
   "source": [
    "suma_al_gusto(5)"
   ]
  },
  {
   "cell_type": "code",
   "execution_count": 64,
   "id": "4f89ea8d-d735-4733-8114-ceb85bc7e5a4",
   "metadata": {},
   "outputs": [],
   "source": [
    "def primo_o_no(n):\n",
    "    if n%2 == 0:\n",
    "        print(\"El número\", n, \"es par.\")\n",
    "    else:\n",
    "        print(\"El número\", n, \"es impar.\")"
   ]
  },
  {
   "cell_type": "code",
   "execution_count": 66,
   "id": "50c0d037-a04a-44c0-8acd-86d46d0effe6",
   "metadata": {},
   "outputs": [
    {
     "name": "stdout",
     "output_type": "stream",
     "text": [
      "El número 30 es par.\n"
     ]
    }
   ],
   "source": [
    "primo_o_no(30)"
   ]
  },
  {
   "cell_type": "code",
   "execution_count": 88,
   "id": "eb901be6-330d-4f23-9f35-e0e964a02bb1",
   "metadata": {},
   "outputs": [],
   "source": [
    "class matematicas():\n",
    "    def primo_o_no(n):\n",
    "        if n%2 == 0:\n",
    "            print(\"El número\", n, \"es par.\")\n",
    "        else:\n",
    "            print(\"El número\", n, \"es impar.\")\n",
    "\n",
    "    def suma_al_gusto(n):\n",
    "        for i in range(n+1):\n",
    "            print(i)\n",
    "    \n",
    "    def factorial(n):\n",
    "        x = 1\n",
    "        for i in range(1, n+1):\n",
    "            x = x*i\n",
    "        print(\"El factorial de \", n, \" es \", x)"
   ]
  },
  {
   "cell_type": "code",
   "execution_count": 89,
   "id": "79d7bd86-b670-4254-a293-05af9ed7bcf1",
   "metadata": {},
   "outputs": [
    {
     "data": {
      "text/plain": [
       "<__main__.matematicas at 0x19f7a1622f0>"
      ]
     },
     "execution_count": 89,
     "metadata": {},
     "output_type": "execute_result"
    }
   ],
   "source": [
    "matematicas()"
   ]
  },
  {
   "cell_type": "code",
   "execution_count": 90,
   "id": "ce13c53a-bd91-4e9a-baa8-dde14117387b",
   "metadata": {},
   "outputs": [
    {
     "name": "stdout",
     "output_type": "stream",
     "text": [
      "El factorial de  5  es  120\n"
     ]
    }
   ],
   "source": [
    "matematicas.factorial(5)"
   ]
  },
  {
   "cell_type": "code",
   "execution_count": 91,
   "id": "f5a2e770-8a86-4b99-b064-f22b9ab5b6f5",
   "metadata": {},
   "outputs": [
    {
     "name": "stdout",
     "output_type": "stream",
     "text": [
      "El número 5 es impar.\n"
     ]
    }
   ],
   "source": [
    "matematicas.primo_o_no(5)"
   ]
  },
  {
   "cell_type": "code",
   "execution_count": 88,
   "id": "85b3da79-eec6-4f30-969b-fa180783c6eb",
   "metadata": {},
   "outputs": [],
   "source": [
    "class matematicas():\n",
    "    def primo_o_no(n):\n",
    "        if n%2 == 0:\n",
    "            print(\"El número\", n, \"es par.\")\n",
    "        else:\n",
    "            print(\"El número\", n, \"es impar.\")\n",
    "\n",
    "    def suma_al_gusto(n):\n",
    "        for i in range(n+1):\n",
    "            print(i)\n",
    "    \n",
    "    def factorial(n):\n",
    "        x = 1\n",
    "        for i in range(1, n+1):\n",
    "            x = x*i\n",
    "        print(\"El factorial de \", n, \" es \", x)"
   ]
  },
  {
   "cell_type": "code",
   "execution_count": 110,
   "id": "28eb764c-5d15-4264-9196-f8c9e729868d",
   "metadata": {},
   "outputs": [],
   "source": [
    "import pandas as pd\n",
    "\n",
    "class importador(): ## Clase general\n",
    "    def importar_csv(ruta): ## Función que importa documentos .csv\n",
    "        df = pd.read_csv(ruta) ## Almacena en la variable df\n",
    "        print(df.head(5)) ## Visualiza los primeros registros de df\n",
    "    def importar_xlsx(ruta):\n",
    "        df = pd.read_excel(ruta)\n",
    "        print(df.head(5))\n"
   ]
  },
  {
   "cell_type": "code",
   "execution_count": 102,
   "id": "2ae49c72-1bc9-4676-b832-7685977d6de9",
   "metadata": {},
   "outputs": [
    {
     "name": "stdout",
     "output_type": "stream",
     "text": [
      "                  Nombre  Edad         Ciudad\n",
      "0    Andres Felipe Rojas    25         Bogotá\n",
      "1  Andrea Camila Benitez    31  Villavicencio\n"
     ]
    }
   ],
   "source": [
    "importador.importar_csv(\"C:/Users/anapa/Documents/CUN/Programación/Documentos/documento.xlsx - Hoja1.csv\")"
   ]
  },
  {
   "cell_type": "code",
   "execution_count": 105,
   "id": "0f60043c-22e7-4611-ba33-6c494063eed1",
   "metadata": {},
   "outputs": [
    {
     "name": "stdout",
     "output_type": "stream",
     "text": [
      "                  Nombre  Edad         Ciudad\n",
      "0    Andres Felipe Rojas    25         Bogotá\n",
      "1  Andrea Camila Benitez    31  Villavicencio\n",
      "2          Jorge Saldaña    15          Neiva\n"
     ]
    }
   ],
   "source": [
    "importador.importar_csv(\"C:/Users/anapa/Desktop/ejemplo.csv\")"
   ]
  },
  {
   "cell_type": "code",
   "execution_count": 111,
   "id": "7cfd7852-4754-4cc9-91c6-bcff5f782df8",
   "metadata": {},
   "outputs": [
    {
     "name": "stdout",
     "output_type": "stream",
     "text": [
      "                  Nombre  Edad         Ciudad\n",
      "0    Andres Felipe Rojas    25         Bogotá\n",
      "1  Andrea Camila Benitez    31  Villavicencio\n",
      "2          Jorge Saldaña    15          Neiva\n"
     ]
    }
   ],
   "source": [
    "importador.importar_xlsx(\"C:/Users/anapa/Documents/CUN/Programación/Documentos/documento.xlsx\")"
   ]
  },
  {
   "cell_type": "code",
   "execution_count": 113,
   "id": "df1f7c16-ab38-48e8-8b01-685c6e8d4a6c",
   "metadata": {},
   "outputs": [
    {
     "name": "stdout",
     "output_type": "stream",
     "text": [
      "Requirement already satisfied: pandas in c:\\users\\anapa\\appdata\\local\\programs\\python\\python310\\lib\\site-packages (2.2.3)\n",
      "Requirement already satisfied: numpy>=1.22.4 in c:\\users\\anapa\\appdata\\local\\programs\\python\\python310\\lib\\site-packages (from pandas) (1.23.5)\n",
      "Requirement already satisfied: python-dateutil>=2.8.2 in c:\\users\\anapa\\appdata\\local\\programs\\python\\python310\\lib\\site-packages (from pandas) (2.8.2)\n",
      "Requirement already satisfied: pytz>=2020.1 in c:\\users\\anapa\\appdata\\local\\programs\\python\\python310\\lib\\site-packages (from pandas) (2023.3.post1)\n",
      "Requirement already satisfied: tzdata>=2022.7 in c:\\users\\anapa\\appdata\\local\\programs\\python\\python310\\lib\\site-packages (from pandas) (2023.3)\n",
      "Requirement already satisfied: six>=1.5 in c:\\users\\anapa\\appdata\\local\\programs\\python\\python310\\lib\\site-packages (from python-dateutil>=2.8.2->pandas) (1.16.0)\n",
      "Note: you may need to restart the kernel to use updated packages.\n"
     ]
    },
    {
     "name": "stderr",
     "output_type": "stream",
     "text": [
      "WARNING: Ignoring invalid distribution -illow (c:\\users\\anapa\\appdata\\local\\programs\\python\\python310\\lib\\site-packages)\n",
      "WARNING: Ignoring invalid distribution -illow (c:\\users\\anapa\\appdata\\local\\programs\\python\\python310\\lib\\site-packages)\n",
      "WARNING: Ignoring invalid distribution -illow (c:\\users\\anapa\\appdata\\local\\programs\\python\\python310\\lib\\site-packages)\n"
     ]
    }
   ],
   "source": [
    "pip install pandas"
   ]
  },
  {
   "cell_type": "code",
   "execution_count": 114,
   "id": "8b1bd894-c92d-45e3-b991-835d0470f0b3",
   "metadata": {},
   "outputs": [
    {
     "name": "stdout",
     "output_type": "stream",
     "text": [
      "Collecting pytorch\n",
      "  Using cached pytorch-1.0.2.tar.gz (689 bytes)\n",
      "  Preparing metadata (setup.py): started\n",
      "  Preparing metadata (setup.py): finished with status 'done'\n",
      "Building wheels for collected packages: pytorch\n",
      "  Building wheel for pytorch (setup.py): started\n",
      "  Building wheel for pytorch (setup.py): finished with status 'error'\n",
      "  Running setup.py clean for pytorch\n",
      "Failed to build pytorch\n",
      "Note: you may need to restart the kernel to use updated packages.\n"
     ]
    },
    {
     "name": "stderr",
     "output_type": "stream",
     "text": [
      "WARNING: Ignoring invalid distribution -illow (c:\\users\\anapa\\appdata\\local\\programs\\python\\python310\\lib\\site-packages)\n",
      "  DEPRECATION: Building 'pytorch' using the legacy setup.py bdist_wheel mechanism, which will be removed in a future version. pip 25.3 will enforce this behaviour change. A possible replacement is to use the standardized build interface by setting the `--use-pep517` option, (possibly combined with `--no-build-isolation`), or adding a `pyproject.toml` file to the source tree of 'pytorch'. Discussion can be found at https://github.com/pypa/pip/issues/6334\n",
      "  error: subprocess-exited-with-error\n",
      "  \n",
      "  python setup.py bdist_wheel did not run successfully.\n",
      "  exit code: 1\n",
      "  \n",
      "  [6 lines of output]\n",
      "  Traceback (most recent call last):\n",
      "    File \"<string>\", line 2, in <module>\n",
      "    File \"<pip-setuptools-caller>\", line 35, in <module>\n",
      "    File \"C:\\Users\\anapa\\AppData\\Local\\Temp\\pip-install-4d918l8i\\pytorch_7a404bfaaede4ca2b2066c66fdff7f08\\setup.py\", line 15, in <module>\n",
      "      raise Exception(message)\n",
      "  Exception: You tried to install \"pytorch\". The package named for PyTorch is \"torch\"\n",
      "  [end of output]\n",
      "  \n",
      "  note: This error originates from a subprocess, and is likely not a problem with pip.\n",
      "  ERROR: Failed building wheel for pytorch\n",
      "ERROR: Failed to build installable wheels for some pyproject.toml based projects (pytorch)\n"
     ]
    }
   ],
   "source": [
    "pip install pytorch"
   ]
  },
  {
   "cell_type": "code",
   "execution_count": null,
   "id": "dddbb1a7-b611-423f-8c4f-04feabd50173",
   "metadata": {},
   "outputs": [],
   "source": [
    "pip install tensorflow"
   ]
  }
 ],
 "metadata": {
  "kernelspec": {
   "display_name": "Python 3 (ipykernel)",
   "language": "python",
   "name": "python3"
  },
  "language_info": {
   "codemirror_mode": {
    "name": "ipython",
    "version": 3
   },
   "file_extension": ".py",
   "mimetype": "text/x-python",
   "name": "python",
   "nbconvert_exporter": "python",
   "pygments_lexer": "ipython3",
   "version": "3.10.9"
  }
 },
 "nbformat": 4,
 "nbformat_minor": 5
}
