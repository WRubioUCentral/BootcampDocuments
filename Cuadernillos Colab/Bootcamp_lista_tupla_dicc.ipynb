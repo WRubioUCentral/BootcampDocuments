{
  "cells": [
    {
      "cell_type": "markdown",
      "id": "226e3a2b",
      "metadata": {
        "id": "226e3a2b"
      },
      "source": [
        "## Estructuras de datos: Cadenas(String), sets(Conjuntos), list(Listas), tuples(Tuplas) y dicts(Diccionarios)."
      ]
    },
    {
      "cell_type": "markdown",
      "id": "ee7ab352",
      "metadata": {
        "id": "ee7ab352"
      },
      "source": [
        "### Métodos aplicables a cadenas\n",
        "- Creación: Se utilizan comillas simples o comillas dobles.\n",
        "- Secuencias de escape: `Primera linea \\n Segunda linea, \\t Introduce un tab`.\n",
        "- Convertir datos en cadenas: `str(0.5)`.\n",
        "- Concatenar cadenas: `cadena1 + cadena2`.\n",
        "- Multiplicar cadenas: `cadena * numero_repeticiones`.\n",
        "- Recuperar un elemento de una cadena: `cadena[indice_posicion]` (comienza en 0).\n",
        "- Rebanar (slicing) una porción de una cadena: `cadena[pi:pf:paso]`.\n",
        "- Encuentra el índice donde empieza una subcadena de la cadena: `cadena.find(subcadena)`.\n",
        "- Remplaza una cadena con otra cadena: `cadena.replace(cadena1, cadena2)`.\n",
        "- Prueba de pertenencia: `cadena in otraCadena`.\n",
        "- Métodos varios: `capitalize(), lower(), count(), strip(), zfill(), join(), split()`.\n",
        "\n",
        "### Métodos aplicables a conjuntos\n",
        "No tienen orden, no puede acceder a sus elementos por indice posicional.\n",
        "- Creación: `conjunto = {1, 2, 3}, conjuntoVacio = set()`.\n",
        "- Unión: `A | B`.\n",
        "- Intersección: `A & B`.\n",
        "- Diferencia: `A - B`.\n",
        "- Prueba de pertenencia: `elemento en conjunto`.\n",
        "- Añadir un elemento: `conjunto.add(nuevoElemento)`.\n",
        "- Eliminar un elemento de un conjunto: `conjunto.remove(elemento)`.\n",
        "- Eliminar todos los elementos de un conjunto: `conjunto.creal()`.\n",
        "- Tamaño (cardinalidad) de un conjunto: `len(conjunto)`.\n",
        "- Copia de un conjunto: `otroConjunto = conjunto.copy()`\n",
        "\n",
        "### Métodos aplicables a tuplas - INMUTABLES\n",
        "- Creación de una tupla: `tupla = (1, 2, 3, 4), tupla = 1, 2, 3, 4, tupla = ()`.\n",
        "- Tupla con un solo elemento: `tupla = (elemento, )`.\n",
        "- Recuperar un elemento de una tupla: `tupla[indice_posicion]`. (comienza en 0)\n",
        "- Recuperar (slicing) una porción de una tupla:\n",
        "`tupla[pi(cerrado):pf(abierto):paso]`.\n",
        "- Longitud de una tupla: `len(tupla)`.\n",
        "- Prueba de pretenencia: `elemento in tupla`.\n",
        "\n",
        "### Métodos aplicables a listas - MUTABLES\n",
        "El orden importa, se puede acceder a los elementos por índice posicional.\n",
        "Admite elementos repetidos, admite distintos tipos de datos\n",
        "- Creación: `lista = [1, 2, 3, 4], listaVacia = []`.\n",
        "- Añadir un elemento al final de una lista: `lista.append(item)`.\n",
        "- Añadir una lista al final de otra lista: `lista.extend(otraLista)`.\n",
        "- Recuperar un elemento de una lista: `lista[indice_posicion]`. (comienza en 0)\n",
        "- Recuperar (slicing) una porción de una cadena: `lista[pi:pf:paso]`.\n",
        "- Eliminar un elemento en función de su valor: `lista.remove(valor)` (esto elimina al primer elemento que se encuentre de izquierda a derecha igual `valor`).\n",
        "- Eliminar un elemento en función de su índice posicional: `del.lista[indice_posicion]` (también se puede aplicar con porciones de una lista).\n",
        "- Muestra el índice del primer elemento de izquierda a derecha que tenga un determinado valor: `lista.index(valor)`.\n",
        "- Cuenta el número de veces que aparece un valor determinado en una lista: `lista.count(valor)`.\n",
        "- Ordena los elementos de una lista: `lista.sort()`. (ascendente), `lista.sort(reverse = TRUE)`\n",
        "- Invierte los elementos de una lista: `lista.reverse(), lista[::-1] (me permite reversar porciones de una lista, lista[pf(cerrado):pi(abierto):-1])`\n",
        "- Copia de una lista: `otroLista = lista.copy()` SÚPER IMPORTANTE.\n",
        "- Longitud de una lista: `len(lista)`.\n",
        "- Prueba de pertenencia: `elemento de lista`.\n",
        "- Lisa de tuplas de parejas índice - elemento: `list(enumerate(lista))`.\n",
        "- Métodos varios: `zip()`\n",
        "\n",
        "### Métodos aplicables a diccionarios - MUTABLE\n",
        "- Creación: `diccionario = {clave: valor, otraClave: otroValor}`.\n",
        "- Recuperar un 'valor' de un diccionario: `diccionario[]`.\n",
        "- Borrar un elemento en función de la clave: `del diccionario[clave], diccionario.pop(clave)`\n",
        "- Lista todas las claves del diccionario: `list(diccionario)`.\n",
        "- Prueba de pertenencia: `clave in diccionario`.\n",
        "- Actualizar/crear una pareja clave - valor: `diccionario[clave] = valor`.\n",
        "- Eliminar todos los elementos de un diccionario: `diccionario.clear()`.\n",
        "- Copiar un diccionario: `diccionario.copy()`.\n",
        "- Longitud de diccionario: `len(diccionario)`.\n",
        "- Métodos varios: `items(), keys(), value(), popitem()(elimina la última pareja clave:valor del diccionario), update()`.\n"
      ]
    },
    {
      "cell_type": "code",
      "execution_count": 4,
      "id": "3f445dde",
      "metadata": {
        "colab": {
          "base_uri": "https://localhost:8080/"
        },
        "id": "3f445dde",
        "outputId": "ed21e3d2-1c83-479b-c222-06131ee9faa2"
      },
      "outputs": [
        {
          "output_type": "stream",
          "name": "stdout",
          "text": [
            "['a', 'b', 'c', 'otro'] 140155286301376\n",
            "['a', 'b', 'c', 'otro'] 140155286301376\n"
          ]
        }
      ],
      "source": [
        "lista = [] #Así se declara una lista vacía\n",
        "lista = ['a', 'b', 'c']\n",
        "##Iguala la lista y siguen siendo iguales por siempre\n",
        "otraLista = lista\n",
        "otraLista.append('otro')\n",
        "print(lista, id(lista))\n",
        "print(otraLista, id(otraLista))"
      ]
    },
    {
      "cell_type": "code",
      "source": [
        "lista = []\n",
        "for i in range(10):\n",
        "    lista.append(i)\n",
        "\n",
        "lista"
      ],
      "metadata": {
        "colab": {
          "base_uri": "https://localhost:8080/"
        },
        "id": "NkS7wyduS20a",
        "outputId": "5c3e86f8-8a54-47c4-e2e3-4ff57702a22f"
      },
      "id": "NkS7wyduS20a",
      "execution_count": 7,
      "outputs": [
        {
          "output_type": "execute_result",
          "data": {
            "text/plain": [
              "[0, 1, 2, 3, 4, 5, 6, 7, 8, 9]"
            ]
          },
          "metadata": {},
          "execution_count": 7
        }
      ]
    },
    {
      "cell_type": "code",
      "source": [
        "##capitalize() Mayúscula a la primera letra\n",
        "\n",
        "lista = ['jose', 'alfredo', 'rojas', 'mendez']\n",
        "otraLista = []\n",
        "for i in lista:\n",
        "    otraLista.append(i.capitalize())\n",
        "otraLista"
      ],
      "metadata": {
        "colab": {
          "base_uri": "https://localhost:8080/"
        },
        "id": "8OlOtO6kTpZ9",
        "outputId": "0dd499f1-7eef-404c-f71c-473b01c61332"
      },
      "id": "8OlOtO6kTpZ9",
      "execution_count": 16,
      "outputs": [
        {
          "output_type": "execute_result",
          "data": {
            "text/plain": [
              "['Jose', 'Alfredo', 'Rojas', 'Mendez']"
            ]
          },
          "metadata": {},
          "execution_count": 16
        }
      ]
    },
    {
      "cell_type": "code",
      "source": [
        "##lower() Todo a minúsculas\n",
        "\n",
        "lista = ['JOSE', 'ALFREDO', 'ROJAS', 'MENDEZ']\n",
        "otraLista = []\n",
        "for i in lista:\n",
        "    otraLista.append(i.lower())\n",
        "otraLista"
      ],
      "metadata": {
        "colab": {
          "base_uri": "https://localhost:8080/"
        },
        "id": "DmxlPUiJVrVG",
        "outputId": "d98e3ca4-d87f-4b18-ca64-b6b0aa1ca456"
      },
      "id": "DmxlPUiJVrVG",
      "execution_count": 17,
      "outputs": [
        {
          "output_type": "execute_result",
          "data": {
            "text/plain": [
              "['jose', 'alfredo', 'rojas', 'mendez']"
            ]
          },
          "metadata": {},
          "execution_count": 17
        }
      ]
    },
    {
      "cell_type": "code",
      "source": [
        "##strip() Elimina los espacios en blanco\n",
        "\n",
        "lista = ['  Jose ', '   Alfredo    ', '   Rojas   ', '   Mendez   ']\n",
        "otraLista = []\n",
        "for i in lista:\n",
        "    otraLista.append(i.strip())\n",
        "otraLista\n",
        "\n",
        "lista = ['--Jose--', '--Alfredo---', '--Rojas---', '---Mendez--']\n",
        "otraLista = []\n",
        "for i in lista:\n",
        "    otraLista.append(i.strip('-'))\n",
        "otraLista"
      ],
      "metadata": {
        "colab": {
          "base_uri": "https://localhost:8080/"
        },
        "id": "f5hfvfx9Vb5R",
        "outputId": "c50b4fde-1c88-413d-ea00-790b7e1e69c7"
      },
      "id": "f5hfvfx9Vb5R",
      "execution_count": 29,
      "outputs": [
        {
          "output_type": "execute_result",
          "data": {
            "text/plain": [
              "['Jose', 'Alfredo', 'Rojas', 'Mendez']"
            ]
          },
          "metadata": {},
          "execution_count": 29
        }
      ]
    },
    {
      "cell_type": "code",
      "source": [
        "##replace\n",
        "\n",
        "lista = ['-  -J ___os e- -',\n",
        "         '- -..A lf.red o---',\n",
        "         '-.-  R oj.as -- -',\n",
        "         '-..-  - M-endez--']\n",
        "otraLista = []\n",
        "for i in lista:\n",
        "    otraLista.append(i.replace(\" \", \"\").replace(\"-\",\"\").replace(\"_\",\"\").replace(\".\",\"\"))\n",
        "otraLista"
      ],
      "metadata": {
        "colab": {
          "base_uri": "https://localhost:8080/"
        },
        "id": "CMmxj0eQYiOw",
        "outputId": "9220447b-48a4-4c90-cc3f-c4df67f3c1b7"
      },
      "id": "CMmxj0eQYiOw",
      "execution_count": 32,
      "outputs": [
        {
          "output_type": "execute_result",
          "data": {
            "text/plain": [
              "['Jose', 'Alfredo', 'Rojas', 'Mendez']"
            ]
          },
          "metadata": {},
          "execution_count": 32
        }
      ]
    },
    {
      "cell_type": "code",
      "source": [
        "texto = \"Si estás progresando en el curso de latín desde cero, ¡estás en el lugar correcto para seguir practicando! A lo largo del curso tienes prácticas de análisis y traducción graduadas y adaptadas a los contenidos teóricos, pero nunca está de más seguir practicando el análisis, la traducción, la lectura… Poco a poco iré publicando vídeos, más o menos detallados, de análisis y traducción de textos latinos fáciles u originales. También iremos haciendo lo mismo con textos para trabajar la lectura directa. Solo si estás bastante avanzado deberías ir a las obras completas sin adaptar.\"\n",
        "texto = texto.replace(\"á\", \"a\").replace(\"é\", \"e\").replace(\"í\", \"i\").replace(\"ó\", \"o\").replace(\"ú\", \"u\").replace(\",\",\"\").replace(\".\", \"\")\n",
        "texto"
      ],
      "metadata": {
        "colab": {
          "base_uri": "https://localhost:8080/",
          "height": 108
        },
        "id": "cUB2PSuBaJF9",
        "outputId": "ca48b2ac-57e8-4c11-ffd7-f33bdc0395bf"
      },
      "id": "cUB2PSuBaJF9",
      "execution_count": 40,
      "outputs": [
        {
          "output_type": "execute_result",
          "data": {
            "text/plain": [
              "'Si estas progresando en el curso de latin desde cero ¡estas en el lugar correcto para seguir practicando! A lo largo del curso tienes practicas de analisis y traduccion graduadas y adaptadas a los contenidos teoricos pero nunca esta de mas seguir practicando el analisis la traduccion la lectura… Poco a poco ire publicando videos mas o menos detallados de analisis y traduccion de textos latinos faciles u originales Tambien iremos haciendo lo mismo con textos para trabajar la lectura directa Solo si estas bastante avanzado deberias ir a las obras completas sin adaptar'"
            ],
            "application/vnd.google.colaboratory.intrinsic+json": {
              "type": "string"
            }
          },
          "metadata": {},
          "execution_count": 40
        }
      ]
    },
    {
      "cell_type": "code",
      "source": [
        "import kagglehub\n",
        "from kagglehub import KaggleDatasetAdapter\n",
        "\n",
        "file_path = \"Data_sucia.csv\"\n",
        "\n",
        "# Cargar data y almacenar en df\n",
        "df = kagglehub.load_dataset(KaggleDatasetAdapter.PANDAS, \"williamrrubio/dada-siniestros-bogot-2021\", file_path)\n",
        "df.info()"
      ],
      "metadata": {
        "colab": {
          "base_uri": "https://localhost:8080/"
        },
        "id": "AxdgYZunbKCI",
        "outputId": "1b95d5da-3b6e-40e5-8eda-ff52f292bdd9"
      },
      "id": "AxdgYZunbKCI",
      "execution_count": 41,
      "outputs": [
        {
          "output_type": "stream",
          "name": "stderr",
          "text": [
            "<ipython-input-41-8fac5e9c2200>:7: DeprecationWarning: load_dataset is deprecated and will be removed in a future version.\n",
            "  df = kagglehub.load_dataset(KaggleDatasetAdapter.PANDAS, \"williamrrubio/dada-siniestros-bogot-2021\", file_path)\n"
          ]
        },
        {
          "output_type": "stream",
          "name": "stdout",
          "text": [
            "Downloading from https://www.kaggle.com/api/v1/datasets/download/williamrrubio/dada-siniestros-bogot-2021?dataset_version_number=1&file_name=Data_sucia.csv...\n"
          ]
        },
        {
          "output_type": "stream",
          "name": "stderr",
          "text": [
            "100%|██████████| 165M/165M [00:03<00:00, 47.5MB/s]\n"
          ]
        },
        {
          "output_type": "stream",
          "name": "stdout",
          "text": [
            "<class 'pandas.core.frame.DataFrame'>\n",
            "RangeIndex: 1001821 entries, 0 to 1001820\n",
            "Data columns (total 14 columns):\n",
            " #   Column          Non-Null Count    Dtype \n",
            "---  ------          --------------    ----- \n",
            " 0   Fecha           1001821 non-null  object\n",
            " 1   Hora            1001821 non-null  object\n",
            " 2   Gravedad        1001821 non-null  object\n",
            " 3   Clase           1001821 non-null  object\n",
            " 4   Choque          923659 non-null   object\n",
            " 5   Localidad       1001821 non-null  object\n",
            " 6   Diseno_lugar    1001821 non-null  object\n",
            " 7   Estado          1001821 non-null  object\n",
            " 8   Condicion       1001821 non-null  object\n",
            " 9   Servicio        954977 non-null   object\n",
            " 10  Modalidad       384405 non-null   object\n",
            " 11  Clase_vehiculo  992340 non-null   object\n",
            " 12  Servicio.1      954977 non-null   object\n",
            " 13  Causa           1001821 non-null  object\n",
            "dtypes: object(14)\n",
            "memory usage: 107.0+ MB\n"
          ]
        }
      ]
    },
    {
      "cell_type": "code",
      "source": [
        "df.head()"
      ],
      "metadata": {
        "colab": {
          "base_uri": "https://localhost:8080/",
          "height": 677
        },
        "id": "_N56MYjMbQFY",
        "outputId": "ce6b8332-4cac-4697-d358-8638786e9332"
      },
      "id": "_N56MYjMbQFY",
      "execution_count": 42,
      "outputs": [
        {
          "output_type": "execute_result",
          "data": {
            "text/plain": [
              "        Fecha      Hora    Gravedad   Clase    Choque Localidad  Diseno_lugar  \\\n",
              "0  2015-07-20  08:00:00  Solo danos  Choque  Vehiculo      Suba  Tramo de via   \n",
              "1  2015-07-20  08:00:00  Solo danos  Choque  Vehiculo      Suba  Tramo de via   \n",
              "2  2015-07-20  08:00:00  Solo danos  Choque  Vehiculo      Suba  Tramo de via   \n",
              "3  2015-07-20  08:00:00  Solo danos  Choque  Vehiculo      Suba  Tramo de via   \n",
              "4  2015-07-21  08:15:00  Solo danos  Choque  Vehiculo  Engativa  Tramo de via   \n",
              "\n",
              "  Estado  Condicion    Servicio               Modalidad Clase_vehiculo  \\\n",
              "0  Ileso  Conductor     Publico      Pasajeros - Masivo            Bus   \n",
              "1  Ileso  Conductor  Particular                     NaN      Automovil   \n",
              "2  Ileso  Conductor     Publico      Pasajeros - Masivo            Bus   \n",
              "3  Ileso  Conductor  Particular                     NaN      Automovil   \n",
              "4  Ileso  Conductor     Publico  Pasajeros - Individual      Automovil   \n",
              "\n",
              "   Servicio.1                                              Causa  \n",
              "0     Publico       No respetar prelacion (conductor en general)  \n",
              "1  Particular       No respetar prelacion (conductor en general)  \n",
              "2     Publico       No respetar prelacion (conductor en general)  \n",
              "3  Particular       No respetar prelacion (conductor en general)  \n",
              "4     Publico  No mantener distancia de seguridad (conductor ...  "
            ],
            "text/html": [
              "\n",
              "  <div id=\"df-b5aa6269-edeb-4c5e-a770-be0f10c19f40\" class=\"colab-df-container\">\n",
              "    <div>\n",
              "<style scoped>\n",
              "    .dataframe tbody tr th:only-of-type {\n",
              "        vertical-align: middle;\n",
              "    }\n",
              "\n",
              "    .dataframe tbody tr th {\n",
              "        vertical-align: top;\n",
              "    }\n",
              "\n",
              "    .dataframe thead th {\n",
              "        text-align: right;\n",
              "    }\n",
              "</style>\n",
              "<table border=\"1\" class=\"dataframe\">\n",
              "  <thead>\n",
              "    <tr style=\"text-align: right;\">\n",
              "      <th></th>\n",
              "      <th>Fecha</th>\n",
              "      <th>Hora</th>\n",
              "      <th>Gravedad</th>\n",
              "      <th>Clase</th>\n",
              "      <th>Choque</th>\n",
              "      <th>Localidad</th>\n",
              "      <th>Diseno_lugar</th>\n",
              "      <th>Estado</th>\n",
              "      <th>Condicion</th>\n",
              "      <th>Servicio</th>\n",
              "      <th>Modalidad</th>\n",
              "      <th>Clase_vehiculo</th>\n",
              "      <th>Servicio.1</th>\n",
              "      <th>Causa</th>\n",
              "    </tr>\n",
              "  </thead>\n",
              "  <tbody>\n",
              "    <tr>\n",
              "      <th>0</th>\n",
              "      <td>2015-07-20</td>\n",
              "      <td>08:00:00</td>\n",
              "      <td>Solo danos</td>\n",
              "      <td>Choque</td>\n",
              "      <td>Vehiculo</td>\n",
              "      <td>Suba</td>\n",
              "      <td>Tramo de via</td>\n",
              "      <td>Ileso</td>\n",
              "      <td>Conductor</td>\n",
              "      <td>Publico</td>\n",
              "      <td>Pasajeros - Masivo</td>\n",
              "      <td>Bus</td>\n",
              "      <td>Publico</td>\n",
              "      <td>No respetar prelacion (conductor en general)</td>\n",
              "    </tr>\n",
              "    <tr>\n",
              "      <th>1</th>\n",
              "      <td>2015-07-20</td>\n",
              "      <td>08:00:00</td>\n",
              "      <td>Solo danos</td>\n",
              "      <td>Choque</td>\n",
              "      <td>Vehiculo</td>\n",
              "      <td>Suba</td>\n",
              "      <td>Tramo de via</td>\n",
              "      <td>Ileso</td>\n",
              "      <td>Conductor</td>\n",
              "      <td>Particular</td>\n",
              "      <td>NaN</td>\n",
              "      <td>Automovil</td>\n",
              "      <td>Particular</td>\n",
              "      <td>No respetar prelacion (conductor en general)</td>\n",
              "    </tr>\n",
              "    <tr>\n",
              "      <th>2</th>\n",
              "      <td>2015-07-20</td>\n",
              "      <td>08:00:00</td>\n",
              "      <td>Solo danos</td>\n",
              "      <td>Choque</td>\n",
              "      <td>Vehiculo</td>\n",
              "      <td>Suba</td>\n",
              "      <td>Tramo de via</td>\n",
              "      <td>Ileso</td>\n",
              "      <td>Conductor</td>\n",
              "      <td>Publico</td>\n",
              "      <td>Pasajeros - Masivo</td>\n",
              "      <td>Bus</td>\n",
              "      <td>Publico</td>\n",
              "      <td>No respetar prelacion (conductor en general)</td>\n",
              "    </tr>\n",
              "    <tr>\n",
              "      <th>3</th>\n",
              "      <td>2015-07-20</td>\n",
              "      <td>08:00:00</td>\n",
              "      <td>Solo danos</td>\n",
              "      <td>Choque</td>\n",
              "      <td>Vehiculo</td>\n",
              "      <td>Suba</td>\n",
              "      <td>Tramo de via</td>\n",
              "      <td>Ileso</td>\n",
              "      <td>Conductor</td>\n",
              "      <td>Particular</td>\n",
              "      <td>NaN</td>\n",
              "      <td>Automovil</td>\n",
              "      <td>Particular</td>\n",
              "      <td>No respetar prelacion (conductor en general)</td>\n",
              "    </tr>\n",
              "    <tr>\n",
              "      <th>4</th>\n",
              "      <td>2015-07-21</td>\n",
              "      <td>08:15:00</td>\n",
              "      <td>Solo danos</td>\n",
              "      <td>Choque</td>\n",
              "      <td>Vehiculo</td>\n",
              "      <td>Engativa</td>\n",
              "      <td>Tramo de via</td>\n",
              "      <td>Ileso</td>\n",
              "      <td>Conductor</td>\n",
              "      <td>Publico</td>\n",
              "      <td>Pasajeros - Individual</td>\n",
              "      <td>Automovil</td>\n",
              "      <td>Publico</td>\n",
              "      <td>No mantener distancia de seguridad (conductor ...</td>\n",
              "    </tr>\n",
              "  </tbody>\n",
              "</table>\n",
              "</div>\n",
              "    <div class=\"colab-df-buttons\">\n",
              "\n",
              "  <div class=\"colab-df-container\">\n",
              "    <button class=\"colab-df-convert\" onclick=\"convertToInteractive('df-b5aa6269-edeb-4c5e-a770-be0f10c19f40')\"\n",
              "            title=\"Convert this dataframe to an interactive table.\"\n",
              "            style=\"display:none;\">\n",
              "\n",
              "  <svg xmlns=\"http://www.w3.org/2000/svg\" height=\"24px\" viewBox=\"0 -960 960 960\">\n",
              "    <path d=\"M120-120v-720h720v720H120Zm60-500h600v-160H180v160Zm220 220h160v-160H400v160Zm0 220h160v-160H400v160ZM180-400h160v-160H180v160Zm440 0h160v-160H620v160ZM180-180h160v-160H180v160Zm440 0h160v-160H620v160Z\"/>\n",
              "  </svg>\n",
              "    </button>\n",
              "\n",
              "  <style>\n",
              "    .colab-df-container {\n",
              "      display:flex;\n",
              "      gap: 12px;\n",
              "    }\n",
              "\n",
              "    .colab-df-convert {\n",
              "      background-color: #E8F0FE;\n",
              "      border: none;\n",
              "      border-radius: 50%;\n",
              "      cursor: pointer;\n",
              "      display: none;\n",
              "      fill: #1967D2;\n",
              "      height: 32px;\n",
              "      padding: 0 0 0 0;\n",
              "      width: 32px;\n",
              "    }\n",
              "\n",
              "    .colab-df-convert:hover {\n",
              "      background-color: #E2EBFA;\n",
              "      box-shadow: 0px 1px 2px rgba(60, 64, 67, 0.3), 0px 1px 3px 1px rgba(60, 64, 67, 0.15);\n",
              "      fill: #174EA6;\n",
              "    }\n",
              "\n",
              "    .colab-df-buttons div {\n",
              "      margin-bottom: 4px;\n",
              "    }\n",
              "\n",
              "    [theme=dark] .colab-df-convert {\n",
              "      background-color: #3B4455;\n",
              "      fill: #D2E3FC;\n",
              "    }\n",
              "\n",
              "    [theme=dark] .colab-df-convert:hover {\n",
              "      background-color: #434B5C;\n",
              "      box-shadow: 0px 1px 3px 1px rgba(0, 0, 0, 0.15);\n",
              "      filter: drop-shadow(0px 1px 2px rgba(0, 0, 0, 0.3));\n",
              "      fill: #FFFFFF;\n",
              "    }\n",
              "  </style>\n",
              "\n",
              "    <script>\n",
              "      const buttonEl =\n",
              "        document.querySelector('#df-b5aa6269-edeb-4c5e-a770-be0f10c19f40 button.colab-df-convert');\n",
              "      buttonEl.style.display =\n",
              "        google.colab.kernel.accessAllowed ? 'block' : 'none';\n",
              "\n",
              "      async function convertToInteractive(key) {\n",
              "        const element = document.querySelector('#df-b5aa6269-edeb-4c5e-a770-be0f10c19f40');\n",
              "        const dataTable =\n",
              "          await google.colab.kernel.invokeFunction('convertToInteractive',\n",
              "                                                    [key], {});\n",
              "        if (!dataTable) return;\n",
              "\n",
              "        const docLinkHtml = 'Like what you see? Visit the ' +\n",
              "          '<a target=\"_blank\" href=https://colab.research.google.com/notebooks/data_table.ipynb>data table notebook</a>'\n",
              "          + ' to learn more about interactive tables.';\n",
              "        element.innerHTML = '';\n",
              "        dataTable['output_type'] = 'display_data';\n",
              "        await google.colab.output.renderOutput(dataTable, element);\n",
              "        const docLink = document.createElement('div');\n",
              "        docLink.innerHTML = docLinkHtml;\n",
              "        element.appendChild(docLink);\n",
              "      }\n",
              "    </script>\n",
              "  </div>\n",
              "\n",
              "\n",
              "    <div id=\"df-773e84cd-f40d-4d38-8233-996066415825\">\n",
              "      <button class=\"colab-df-quickchart\" onclick=\"quickchart('df-773e84cd-f40d-4d38-8233-996066415825')\"\n",
              "                title=\"Suggest charts\"\n",
              "                style=\"display:none;\">\n",
              "\n",
              "<svg xmlns=\"http://www.w3.org/2000/svg\" height=\"24px\"viewBox=\"0 0 24 24\"\n",
              "     width=\"24px\">\n",
              "    <g>\n",
              "        <path d=\"M19 3H5c-1.1 0-2 .9-2 2v14c0 1.1.9 2 2 2h14c1.1 0 2-.9 2-2V5c0-1.1-.9-2-2-2zM9 17H7v-7h2v7zm4 0h-2V7h2v10zm4 0h-2v-4h2v4z\"/>\n",
              "    </g>\n",
              "</svg>\n",
              "      </button>\n",
              "\n",
              "<style>\n",
              "  .colab-df-quickchart {\n",
              "      --bg-color: #E8F0FE;\n",
              "      --fill-color: #1967D2;\n",
              "      --hover-bg-color: #E2EBFA;\n",
              "      --hover-fill-color: #174EA6;\n",
              "      --disabled-fill-color: #AAA;\n",
              "      --disabled-bg-color: #DDD;\n",
              "  }\n",
              "\n",
              "  [theme=dark] .colab-df-quickchart {\n",
              "      --bg-color: #3B4455;\n",
              "      --fill-color: #D2E3FC;\n",
              "      --hover-bg-color: #434B5C;\n",
              "      --hover-fill-color: #FFFFFF;\n",
              "      --disabled-bg-color: #3B4455;\n",
              "      --disabled-fill-color: #666;\n",
              "  }\n",
              "\n",
              "  .colab-df-quickchart {\n",
              "    background-color: var(--bg-color);\n",
              "    border: none;\n",
              "    border-radius: 50%;\n",
              "    cursor: pointer;\n",
              "    display: none;\n",
              "    fill: var(--fill-color);\n",
              "    height: 32px;\n",
              "    padding: 0;\n",
              "    width: 32px;\n",
              "  }\n",
              "\n",
              "  .colab-df-quickchart:hover {\n",
              "    background-color: var(--hover-bg-color);\n",
              "    box-shadow: 0 1px 2px rgba(60, 64, 67, 0.3), 0 1px 3px 1px rgba(60, 64, 67, 0.15);\n",
              "    fill: var(--button-hover-fill-color);\n",
              "  }\n",
              "\n",
              "  .colab-df-quickchart-complete:disabled,\n",
              "  .colab-df-quickchart-complete:disabled:hover {\n",
              "    background-color: var(--disabled-bg-color);\n",
              "    fill: var(--disabled-fill-color);\n",
              "    box-shadow: none;\n",
              "  }\n",
              "\n",
              "  .colab-df-spinner {\n",
              "    border: 2px solid var(--fill-color);\n",
              "    border-color: transparent;\n",
              "    border-bottom-color: var(--fill-color);\n",
              "    animation:\n",
              "      spin 1s steps(1) infinite;\n",
              "  }\n",
              "\n",
              "  @keyframes spin {\n",
              "    0% {\n",
              "      border-color: transparent;\n",
              "      border-bottom-color: var(--fill-color);\n",
              "      border-left-color: var(--fill-color);\n",
              "    }\n",
              "    20% {\n",
              "      border-color: transparent;\n",
              "      border-left-color: var(--fill-color);\n",
              "      border-top-color: var(--fill-color);\n",
              "    }\n",
              "    30% {\n",
              "      border-color: transparent;\n",
              "      border-left-color: var(--fill-color);\n",
              "      border-top-color: var(--fill-color);\n",
              "      border-right-color: var(--fill-color);\n",
              "    }\n",
              "    40% {\n",
              "      border-color: transparent;\n",
              "      border-right-color: var(--fill-color);\n",
              "      border-top-color: var(--fill-color);\n",
              "    }\n",
              "    60% {\n",
              "      border-color: transparent;\n",
              "      border-right-color: var(--fill-color);\n",
              "    }\n",
              "    80% {\n",
              "      border-color: transparent;\n",
              "      border-right-color: var(--fill-color);\n",
              "      border-bottom-color: var(--fill-color);\n",
              "    }\n",
              "    90% {\n",
              "      border-color: transparent;\n",
              "      border-bottom-color: var(--fill-color);\n",
              "    }\n",
              "  }\n",
              "</style>\n",
              "\n",
              "      <script>\n",
              "        async function quickchart(key) {\n",
              "          const quickchartButtonEl =\n",
              "            document.querySelector('#' + key + ' button');\n",
              "          quickchartButtonEl.disabled = true;  // To prevent multiple clicks.\n",
              "          quickchartButtonEl.classList.add('colab-df-spinner');\n",
              "          try {\n",
              "            const charts = await google.colab.kernel.invokeFunction(\n",
              "                'suggestCharts', [key], {});\n",
              "          } catch (error) {\n",
              "            console.error('Error during call to suggestCharts:', error);\n",
              "          }\n",
              "          quickchartButtonEl.classList.remove('colab-df-spinner');\n",
              "          quickchartButtonEl.classList.add('colab-df-quickchart-complete');\n",
              "        }\n",
              "        (() => {\n",
              "          let quickchartButtonEl =\n",
              "            document.querySelector('#df-773e84cd-f40d-4d38-8233-996066415825 button');\n",
              "          quickchartButtonEl.style.display =\n",
              "            google.colab.kernel.accessAllowed ? 'block' : 'none';\n",
              "        })();\n",
              "      </script>\n",
              "    </div>\n",
              "\n",
              "    </div>\n",
              "  </div>\n"
            ],
            "application/vnd.google.colaboratory.intrinsic+json": {
              "type": "dataframe",
              "variable_name": "df"
            }
          },
          "metadata": {},
          "execution_count": 42
        }
      ]
    },
    {
      "cell_type": "code",
      "source": [
        "df['Gravedad'] = df['Gravedad'].str.lower()\n",
        "df['Clase'] = df['Clase'].str.lower()\n",
        "df.head()"
      ],
      "metadata": {
        "colab": {
          "base_uri": "https://localhost:8080/",
          "height": 677
        },
        "id": "W5371dTMbZh9",
        "outputId": "df21370a-70b3-4914-d91c-04fe40cbf553"
      },
      "id": "W5371dTMbZh9",
      "execution_count": 47,
      "outputs": [
        {
          "output_type": "execute_result",
          "data": {
            "text/plain": [
              "        Fecha      Hora    Gravedad   Clase    Choque Localidad  Diseno_lugar  \\\n",
              "0  2015-07-20  08:00:00  solo danos  choque  Vehiculo      Suba  Tramo de via   \n",
              "1  2015-07-20  08:00:00  solo danos  choque  Vehiculo      Suba  Tramo de via   \n",
              "2  2015-07-20  08:00:00  solo danos  choque  Vehiculo      Suba  Tramo de via   \n",
              "3  2015-07-20  08:00:00  solo danos  choque  Vehiculo      Suba  Tramo de via   \n",
              "4  2015-07-21  08:15:00  solo danos  choque  Vehiculo  Engativa  Tramo de via   \n",
              "\n",
              "  Estado  Condicion    Servicio              Modalidad Clase_vehiculo  \\\n",
              "0  Ileso  Conductor     Publico      Pasajeros  Masivo            Bus   \n",
              "1  Ileso  Conductor  Particular                    NaN      Automovil   \n",
              "2  Ileso  Conductor     Publico      Pasajeros  Masivo            Bus   \n",
              "3  Ileso  Conductor  Particular                    NaN      Automovil   \n",
              "4  Ileso  Conductor     Publico  Pasajeros  Individual      Automovil   \n",
              "\n",
              "   Servicio.1                                              Causa  \n",
              "0     Publico       No respetar prelacion (conductor en general)  \n",
              "1  Particular       No respetar prelacion (conductor en general)  \n",
              "2     Publico       No respetar prelacion (conductor en general)  \n",
              "3  Particular       No respetar prelacion (conductor en general)  \n",
              "4     Publico  No mantener distancia de seguridad (conductor ...  "
            ],
            "text/html": [
              "\n",
              "  <div id=\"df-c203c53b-8e99-44de-9cde-8614753bce99\" class=\"colab-df-container\">\n",
              "    <div>\n",
              "<style scoped>\n",
              "    .dataframe tbody tr th:only-of-type {\n",
              "        vertical-align: middle;\n",
              "    }\n",
              "\n",
              "    .dataframe tbody tr th {\n",
              "        vertical-align: top;\n",
              "    }\n",
              "\n",
              "    .dataframe thead th {\n",
              "        text-align: right;\n",
              "    }\n",
              "</style>\n",
              "<table border=\"1\" class=\"dataframe\">\n",
              "  <thead>\n",
              "    <tr style=\"text-align: right;\">\n",
              "      <th></th>\n",
              "      <th>Fecha</th>\n",
              "      <th>Hora</th>\n",
              "      <th>Gravedad</th>\n",
              "      <th>Clase</th>\n",
              "      <th>Choque</th>\n",
              "      <th>Localidad</th>\n",
              "      <th>Diseno_lugar</th>\n",
              "      <th>Estado</th>\n",
              "      <th>Condicion</th>\n",
              "      <th>Servicio</th>\n",
              "      <th>Modalidad</th>\n",
              "      <th>Clase_vehiculo</th>\n",
              "      <th>Servicio.1</th>\n",
              "      <th>Causa</th>\n",
              "    </tr>\n",
              "  </thead>\n",
              "  <tbody>\n",
              "    <tr>\n",
              "      <th>0</th>\n",
              "      <td>2015-07-20</td>\n",
              "      <td>08:00:00</td>\n",
              "      <td>solo danos</td>\n",
              "      <td>choque</td>\n",
              "      <td>Vehiculo</td>\n",
              "      <td>Suba</td>\n",
              "      <td>Tramo de via</td>\n",
              "      <td>Ileso</td>\n",
              "      <td>Conductor</td>\n",
              "      <td>Publico</td>\n",
              "      <td>Pasajeros  Masivo</td>\n",
              "      <td>Bus</td>\n",
              "      <td>Publico</td>\n",
              "      <td>No respetar prelacion (conductor en general)</td>\n",
              "    </tr>\n",
              "    <tr>\n",
              "      <th>1</th>\n",
              "      <td>2015-07-20</td>\n",
              "      <td>08:00:00</td>\n",
              "      <td>solo danos</td>\n",
              "      <td>choque</td>\n",
              "      <td>Vehiculo</td>\n",
              "      <td>Suba</td>\n",
              "      <td>Tramo de via</td>\n",
              "      <td>Ileso</td>\n",
              "      <td>Conductor</td>\n",
              "      <td>Particular</td>\n",
              "      <td>NaN</td>\n",
              "      <td>Automovil</td>\n",
              "      <td>Particular</td>\n",
              "      <td>No respetar prelacion (conductor en general)</td>\n",
              "    </tr>\n",
              "    <tr>\n",
              "      <th>2</th>\n",
              "      <td>2015-07-20</td>\n",
              "      <td>08:00:00</td>\n",
              "      <td>solo danos</td>\n",
              "      <td>choque</td>\n",
              "      <td>Vehiculo</td>\n",
              "      <td>Suba</td>\n",
              "      <td>Tramo de via</td>\n",
              "      <td>Ileso</td>\n",
              "      <td>Conductor</td>\n",
              "      <td>Publico</td>\n",
              "      <td>Pasajeros  Masivo</td>\n",
              "      <td>Bus</td>\n",
              "      <td>Publico</td>\n",
              "      <td>No respetar prelacion (conductor en general)</td>\n",
              "    </tr>\n",
              "    <tr>\n",
              "      <th>3</th>\n",
              "      <td>2015-07-20</td>\n",
              "      <td>08:00:00</td>\n",
              "      <td>solo danos</td>\n",
              "      <td>choque</td>\n",
              "      <td>Vehiculo</td>\n",
              "      <td>Suba</td>\n",
              "      <td>Tramo de via</td>\n",
              "      <td>Ileso</td>\n",
              "      <td>Conductor</td>\n",
              "      <td>Particular</td>\n",
              "      <td>NaN</td>\n",
              "      <td>Automovil</td>\n",
              "      <td>Particular</td>\n",
              "      <td>No respetar prelacion (conductor en general)</td>\n",
              "    </tr>\n",
              "    <tr>\n",
              "      <th>4</th>\n",
              "      <td>2015-07-21</td>\n",
              "      <td>08:15:00</td>\n",
              "      <td>solo danos</td>\n",
              "      <td>choque</td>\n",
              "      <td>Vehiculo</td>\n",
              "      <td>Engativa</td>\n",
              "      <td>Tramo de via</td>\n",
              "      <td>Ileso</td>\n",
              "      <td>Conductor</td>\n",
              "      <td>Publico</td>\n",
              "      <td>Pasajeros  Individual</td>\n",
              "      <td>Automovil</td>\n",
              "      <td>Publico</td>\n",
              "      <td>No mantener distancia de seguridad (conductor ...</td>\n",
              "    </tr>\n",
              "  </tbody>\n",
              "</table>\n",
              "</div>\n",
              "    <div class=\"colab-df-buttons\">\n",
              "\n",
              "  <div class=\"colab-df-container\">\n",
              "    <button class=\"colab-df-convert\" onclick=\"convertToInteractive('df-c203c53b-8e99-44de-9cde-8614753bce99')\"\n",
              "            title=\"Convert this dataframe to an interactive table.\"\n",
              "            style=\"display:none;\">\n",
              "\n",
              "  <svg xmlns=\"http://www.w3.org/2000/svg\" height=\"24px\" viewBox=\"0 -960 960 960\">\n",
              "    <path d=\"M120-120v-720h720v720H120Zm60-500h600v-160H180v160Zm220 220h160v-160H400v160Zm0 220h160v-160H400v160ZM180-400h160v-160H180v160Zm440 0h160v-160H620v160ZM180-180h160v-160H180v160Zm440 0h160v-160H620v160Z\"/>\n",
              "  </svg>\n",
              "    </button>\n",
              "\n",
              "  <style>\n",
              "    .colab-df-container {\n",
              "      display:flex;\n",
              "      gap: 12px;\n",
              "    }\n",
              "\n",
              "    .colab-df-convert {\n",
              "      background-color: #E8F0FE;\n",
              "      border: none;\n",
              "      border-radius: 50%;\n",
              "      cursor: pointer;\n",
              "      display: none;\n",
              "      fill: #1967D2;\n",
              "      height: 32px;\n",
              "      padding: 0 0 0 0;\n",
              "      width: 32px;\n",
              "    }\n",
              "\n",
              "    .colab-df-convert:hover {\n",
              "      background-color: #E2EBFA;\n",
              "      box-shadow: 0px 1px 2px rgba(60, 64, 67, 0.3), 0px 1px 3px 1px rgba(60, 64, 67, 0.15);\n",
              "      fill: #174EA6;\n",
              "    }\n",
              "\n",
              "    .colab-df-buttons div {\n",
              "      margin-bottom: 4px;\n",
              "    }\n",
              "\n",
              "    [theme=dark] .colab-df-convert {\n",
              "      background-color: #3B4455;\n",
              "      fill: #D2E3FC;\n",
              "    }\n",
              "\n",
              "    [theme=dark] .colab-df-convert:hover {\n",
              "      background-color: #434B5C;\n",
              "      box-shadow: 0px 1px 3px 1px rgba(0, 0, 0, 0.15);\n",
              "      filter: drop-shadow(0px 1px 2px rgba(0, 0, 0, 0.3));\n",
              "      fill: #FFFFFF;\n",
              "    }\n",
              "  </style>\n",
              "\n",
              "    <script>\n",
              "      const buttonEl =\n",
              "        document.querySelector('#df-c203c53b-8e99-44de-9cde-8614753bce99 button.colab-df-convert');\n",
              "      buttonEl.style.display =\n",
              "        google.colab.kernel.accessAllowed ? 'block' : 'none';\n",
              "\n",
              "      async function convertToInteractive(key) {\n",
              "        const element = document.querySelector('#df-c203c53b-8e99-44de-9cde-8614753bce99');\n",
              "        const dataTable =\n",
              "          await google.colab.kernel.invokeFunction('convertToInteractive',\n",
              "                                                    [key], {});\n",
              "        if (!dataTable) return;\n",
              "\n",
              "        const docLinkHtml = 'Like what you see? Visit the ' +\n",
              "          '<a target=\"_blank\" href=https://colab.research.google.com/notebooks/data_table.ipynb>data table notebook</a>'\n",
              "          + ' to learn more about interactive tables.';\n",
              "        element.innerHTML = '';\n",
              "        dataTable['output_type'] = 'display_data';\n",
              "        await google.colab.output.renderOutput(dataTable, element);\n",
              "        const docLink = document.createElement('div');\n",
              "        docLink.innerHTML = docLinkHtml;\n",
              "        element.appendChild(docLink);\n",
              "      }\n",
              "    </script>\n",
              "  </div>\n",
              "\n",
              "\n",
              "    <div id=\"df-6a35510f-4b23-4b1b-9938-07162ebbbe59\">\n",
              "      <button class=\"colab-df-quickchart\" onclick=\"quickchart('df-6a35510f-4b23-4b1b-9938-07162ebbbe59')\"\n",
              "                title=\"Suggest charts\"\n",
              "                style=\"display:none;\">\n",
              "\n",
              "<svg xmlns=\"http://www.w3.org/2000/svg\" height=\"24px\"viewBox=\"0 0 24 24\"\n",
              "     width=\"24px\">\n",
              "    <g>\n",
              "        <path d=\"M19 3H5c-1.1 0-2 .9-2 2v14c0 1.1.9 2 2 2h14c1.1 0 2-.9 2-2V5c0-1.1-.9-2-2-2zM9 17H7v-7h2v7zm4 0h-2V7h2v10zm4 0h-2v-4h2v4z\"/>\n",
              "    </g>\n",
              "</svg>\n",
              "      </button>\n",
              "\n",
              "<style>\n",
              "  .colab-df-quickchart {\n",
              "      --bg-color: #E8F0FE;\n",
              "      --fill-color: #1967D2;\n",
              "      --hover-bg-color: #E2EBFA;\n",
              "      --hover-fill-color: #174EA6;\n",
              "      --disabled-fill-color: #AAA;\n",
              "      --disabled-bg-color: #DDD;\n",
              "  }\n",
              "\n",
              "  [theme=dark] .colab-df-quickchart {\n",
              "      --bg-color: #3B4455;\n",
              "      --fill-color: #D2E3FC;\n",
              "      --hover-bg-color: #434B5C;\n",
              "      --hover-fill-color: #FFFFFF;\n",
              "      --disabled-bg-color: #3B4455;\n",
              "      --disabled-fill-color: #666;\n",
              "  }\n",
              "\n",
              "  .colab-df-quickchart {\n",
              "    background-color: var(--bg-color);\n",
              "    border: none;\n",
              "    border-radius: 50%;\n",
              "    cursor: pointer;\n",
              "    display: none;\n",
              "    fill: var(--fill-color);\n",
              "    height: 32px;\n",
              "    padding: 0;\n",
              "    width: 32px;\n",
              "  }\n",
              "\n",
              "  .colab-df-quickchart:hover {\n",
              "    background-color: var(--hover-bg-color);\n",
              "    box-shadow: 0 1px 2px rgba(60, 64, 67, 0.3), 0 1px 3px 1px rgba(60, 64, 67, 0.15);\n",
              "    fill: var(--button-hover-fill-color);\n",
              "  }\n",
              "\n",
              "  .colab-df-quickchart-complete:disabled,\n",
              "  .colab-df-quickchart-complete:disabled:hover {\n",
              "    background-color: var(--disabled-bg-color);\n",
              "    fill: var(--disabled-fill-color);\n",
              "    box-shadow: none;\n",
              "  }\n",
              "\n",
              "  .colab-df-spinner {\n",
              "    border: 2px solid var(--fill-color);\n",
              "    border-color: transparent;\n",
              "    border-bottom-color: var(--fill-color);\n",
              "    animation:\n",
              "      spin 1s steps(1) infinite;\n",
              "  }\n",
              "\n",
              "  @keyframes spin {\n",
              "    0% {\n",
              "      border-color: transparent;\n",
              "      border-bottom-color: var(--fill-color);\n",
              "      border-left-color: var(--fill-color);\n",
              "    }\n",
              "    20% {\n",
              "      border-color: transparent;\n",
              "      border-left-color: var(--fill-color);\n",
              "      border-top-color: var(--fill-color);\n",
              "    }\n",
              "    30% {\n",
              "      border-color: transparent;\n",
              "      border-left-color: var(--fill-color);\n",
              "      border-top-color: var(--fill-color);\n",
              "      border-right-color: var(--fill-color);\n",
              "    }\n",
              "    40% {\n",
              "      border-color: transparent;\n",
              "      border-right-color: var(--fill-color);\n",
              "      border-top-color: var(--fill-color);\n",
              "    }\n",
              "    60% {\n",
              "      border-color: transparent;\n",
              "      border-right-color: var(--fill-color);\n",
              "    }\n",
              "    80% {\n",
              "      border-color: transparent;\n",
              "      border-right-color: var(--fill-color);\n",
              "      border-bottom-color: var(--fill-color);\n",
              "    }\n",
              "    90% {\n",
              "      border-color: transparent;\n",
              "      border-bottom-color: var(--fill-color);\n",
              "    }\n",
              "  }\n",
              "</style>\n",
              "\n",
              "      <script>\n",
              "        async function quickchart(key) {\n",
              "          const quickchartButtonEl =\n",
              "            document.querySelector('#' + key + ' button');\n",
              "          quickchartButtonEl.disabled = true;  // To prevent multiple clicks.\n",
              "          quickchartButtonEl.classList.add('colab-df-spinner');\n",
              "          try {\n",
              "            const charts = await google.colab.kernel.invokeFunction(\n",
              "                'suggestCharts', [key], {});\n",
              "          } catch (error) {\n",
              "            console.error('Error during call to suggestCharts:', error);\n",
              "          }\n",
              "          quickchartButtonEl.classList.remove('colab-df-spinner');\n",
              "          quickchartButtonEl.classList.add('colab-df-quickchart-complete');\n",
              "        }\n",
              "        (() => {\n",
              "          let quickchartButtonEl =\n",
              "            document.querySelector('#df-6a35510f-4b23-4b1b-9938-07162ebbbe59 button');\n",
              "          quickchartButtonEl.style.display =\n",
              "            google.colab.kernel.accessAllowed ? 'block' : 'none';\n",
              "        })();\n",
              "      </script>\n",
              "    </div>\n",
              "\n",
              "    </div>\n",
              "  </div>\n"
            ],
            "application/vnd.google.colaboratory.intrinsic+json": {
              "type": "dataframe",
              "variable_name": "df"
            }
          },
          "metadata": {},
          "execution_count": 47
        }
      ]
    },
    {
      "cell_type": "code",
      "source": [
        "df['Modalidad'] = df['Modalidad'].str.replace(\"-\",\"\")\n",
        "df.head()"
      ],
      "metadata": {
        "colab": {
          "base_uri": "https://localhost:8080/",
          "height": 677
        },
        "id": "H9fRiKSvbhpc",
        "outputId": "fd8c3a95-8774-4184-cabe-b5f83e8157da"
      },
      "id": "H9fRiKSvbhpc",
      "execution_count": 46,
      "outputs": [
        {
          "output_type": "execute_result",
          "data": {
            "text/plain": [
              "        Fecha      Hora    Gravedad   Clase    Choque Localidad  Diseno_lugar  \\\n",
              "0  2015-07-20  08:00:00  solo danos  Choque  Vehiculo      Suba  Tramo de via   \n",
              "1  2015-07-20  08:00:00  solo danos  Choque  Vehiculo      Suba  Tramo de via   \n",
              "2  2015-07-20  08:00:00  solo danos  Choque  Vehiculo      Suba  Tramo de via   \n",
              "3  2015-07-20  08:00:00  solo danos  Choque  Vehiculo      Suba  Tramo de via   \n",
              "4  2015-07-21  08:15:00  solo danos  Choque  Vehiculo  Engativa  Tramo de via   \n",
              "\n",
              "  Estado  Condicion    Servicio              Modalidad Clase_vehiculo  \\\n",
              "0  Ileso  Conductor     Publico      Pasajeros  Masivo            Bus   \n",
              "1  Ileso  Conductor  Particular                    NaN      Automovil   \n",
              "2  Ileso  Conductor     Publico      Pasajeros  Masivo            Bus   \n",
              "3  Ileso  Conductor  Particular                    NaN      Automovil   \n",
              "4  Ileso  Conductor     Publico  Pasajeros  Individual      Automovil   \n",
              "\n",
              "   Servicio.1                                              Causa  \n",
              "0     Publico       No respetar prelacion (conductor en general)  \n",
              "1  Particular       No respetar prelacion (conductor en general)  \n",
              "2     Publico       No respetar prelacion (conductor en general)  \n",
              "3  Particular       No respetar prelacion (conductor en general)  \n",
              "4     Publico  No mantener distancia de seguridad (conductor ...  "
            ],
            "text/html": [
              "\n",
              "  <div id=\"df-cc6b50d2-0a50-47c8-8f56-813f7d8f82f0\" class=\"colab-df-container\">\n",
              "    <div>\n",
              "<style scoped>\n",
              "    .dataframe tbody tr th:only-of-type {\n",
              "        vertical-align: middle;\n",
              "    }\n",
              "\n",
              "    .dataframe tbody tr th {\n",
              "        vertical-align: top;\n",
              "    }\n",
              "\n",
              "    .dataframe thead th {\n",
              "        text-align: right;\n",
              "    }\n",
              "</style>\n",
              "<table border=\"1\" class=\"dataframe\">\n",
              "  <thead>\n",
              "    <tr style=\"text-align: right;\">\n",
              "      <th></th>\n",
              "      <th>Fecha</th>\n",
              "      <th>Hora</th>\n",
              "      <th>Gravedad</th>\n",
              "      <th>Clase</th>\n",
              "      <th>Choque</th>\n",
              "      <th>Localidad</th>\n",
              "      <th>Diseno_lugar</th>\n",
              "      <th>Estado</th>\n",
              "      <th>Condicion</th>\n",
              "      <th>Servicio</th>\n",
              "      <th>Modalidad</th>\n",
              "      <th>Clase_vehiculo</th>\n",
              "      <th>Servicio.1</th>\n",
              "      <th>Causa</th>\n",
              "    </tr>\n",
              "  </thead>\n",
              "  <tbody>\n",
              "    <tr>\n",
              "      <th>0</th>\n",
              "      <td>2015-07-20</td>\n",
              "      <td>08:00:00</td>\n",
              "      <td>solo danos</td>\n",
              "      <td>Choque</td>\n",
              "      <td>Vehiculo</td>\n",
              "      <td>Suba</td>\n",
              "      <td>Tramo de via</td>\n",
              "      <td>Ileso</td>\n",
              "      <td>Conductor</td>\n",
              "      <td>Publico</td>\n",
              "      <td>Pasajeros  Masivo</td>\n",
              "      <td>Bus</td>\n",
              "      <td>Publico</td>\n",
              "      <td>No respetar prelacion (conductor en general)</td>\n",
              "    </tr>\n",
              "    <tr>\n",
              "      <th>1</th>\n",
              "      <td>2015-07-20</td>\n",
              "      <td>08:00:00</td>\n",
              "      <td>solo danos</td>\n",
              "      <td>Choque</td>\n",
              "      <td>Vehiculo</td>\n",
              "      <td>Suba</td>\n",
              "      <td>Tramo de via</td>\n",
              "      <td>Ileso</td>\n",
              "      <td>Conductor</td>\n",
              "      <td>Particular</td>\n",
              "      <td>NaN</td>\n",
              "      <td>Automovil</td>\n",
              "      <td>Particular</td>\n",
              "      <td>No respetar prelacion (conductor en general)</td>\n",
              "    </tr>\n",
              "    <tr>\n",
              "      <th>2</th>\n",
              "      <td>2015-07-20</td>\n",
              "      <td>08:00:00</td>\n",
              "      <td>solo danos</td>\n",
              "      <td>Choque</td>\n",
              "      <td>Vehiculo</td>\n",
              "      <td>Suba</td>\n",
              "      <td>Tramo de via</td>\n",
              "      <td>Ileso</td>\n",
              "      <td>Conductor</td>\n",
              "      <td>Publico</td>\n",
              "      <td>Pasajeros  Masivo</td>\n",
              "      <td>Bus</td>\n",
              "      <td>Publico</td>\n",
              "      <td>No respetar prelacion (conductor en general)</td>\n",
              "    </tr>\n",
              "    <tr>\n",
              "      <th>3</th>\n",
              "      <td>2015-07-20</td>\n",
              "      <td>08:00:00</td>\n",
              "      <td>solo danos</td>\n",
              "      <td>Choque</td>\n",
              "      <td>Vehiculo</td>\n",
              "      <td>Suba</td>\n",
              "      <td>Tramo de via</td>\n",
              "      <td>Ileso</td>\n",
              "      <td>Conductor</td>\n",
              "      <td>Particular</td>\n",
              "      <td>NaN</td>\n",
              "      <td>Automovil</td>\n",
              "      <td>Particular</td>\n",
              "      <td>No respetar prelacion (conductor en general)</td>\n",
              "    </tr>\n",
              "    <tr>\n",
              "      <th>4</th>\n",
              "      <td>2015-07-21</td>\n",
              "      <td>08:15:00</td>\n",
              "      <td>solo danos</td>\n",
              "      <td>Choque</td>\n",
              "      <td>Vehiculo</td>\n",
              "      <td>Engativa</td>\n",
              "      <td>Tramo de via</td>\n",
              "      <td>Ileso</td>\n",
              "      <td>Conductor</td>\n",
              "      <td>Publico</td>\n",
              "      <td>Pasajeros  Individual</td>\n",
              "      <td>Automovil</td>\n",
              "      <td>Publico</td>\n",
              "      <td>No mantener distancia de seguridad (conductor ...</td>\n",
              "    </tr>\n",
              "  </tbody>\n",
              "</table>\n",
              "</div>\n",
              "    <div class=\"colab-df-buttons\">\n",
              "\n",
              "  <div class=\"colab-df-container\">\n",
              "    <button class=\"colab-df-convert\" onclick=\"convertToInteractive('df-cc6b50d2-0a50-47c8-8f56-813f7d8f82f0')\"\n",
              "            title=\"Convert this dataframe to an interactive table.\"\n",
              "            style=\"display:none;\">\n",
              "\n",
              "  <svg xmlns=\"http://www.w3.org/2000/svg\" height=\"24px\" viewBox=\"0 -960 960 960\">\n",
              "    <path d=\"M120-120v-720h720v720H120Zm60-500h600v-160H180v160Zm220 220h160v-160H400v160Zm0 220h160v-160H400v160ZM180-400h160v-160H180v160Zm440 0h160v-160H620v160ZM180-180h160v-160H180v160Zm440 0h160v-160H620v160Z\"/>\n",
              "  </svg>\n",
              "    </button>\n",
              "\n",
              "  <style>\n",
              "    .colab-df-container {\n",
              "      display:flex;\n",
              "      gap: 12px;\n",
              "    }\n",
              "\n",
              "    .colab-df-convert {\n",
              "      background-color: #E8F0FE;\n",
              "      border: none;\n",
              "      border-radius: 50%;\n",
              "      cursor: pointer;\n",
              "      display: none;\n",
              "      fill: #1967D2;\n",
              "      height: 32px;\n",
              "      padding: 0 0 0 0;\n",
              "      width: 32px;\n",
              "    }\n",
              "\n",
              "    .colab-df-convert:hover {\n",
              "      background-color: #E2EBFA;\n",
              "      box-shadow: 0px 1px 2px rgba(60, 64, 67, 0.3), 0px 1px 3px 1px rgba(60, 64, 67, 0.15);\n",
              "      fill: #174EA6;\n",
              "    }\n",
              "\n",
              "    .colab-df-buttons div {\n",
              "      margin-bottom: 4px;\n",
              "    }\n",
              "\n",
              "    [theme=dark] .colab-df-convert {\n",
              "      background-color: #3B4455;\n",
              "      fill: #D2E3FC;\n",
              "    }\n",
              "\n",
              "    [theme=dark] .colab-df-convert:hover {\n",
              "      background-color: #434B5C;\n",
              "      box-shadow: 0px 1px 3px 1px rgba(0, 0, 0, 0.15);\n",
              "      filter: drop-shadow(0px 1px 2px rgba(0, 0, 0, 0.3));\n",
              "      fill: #FFFFFF;\n",
              "    }\n",
              "  </style>\n",
              "\n",
              "    <script>\n",
              "      const buttonEl =\n",
              "        document.querySelector('#df-cc6b50d2-0a50-47c8-8f56-813f7d8f82f0 button.colab-df-convert');\n",
              "      buttonEl.style.display =\n",
              "        google.colab.kernel.accessAllowed ? 'block' : 'none';\n",
              "\n",
              "      async function convertToInteractive(key) {\n",
              "        const element = document.querySelector('#df-cc6b50d2-0a50-47c8-8f56-813f7d8f82f0');\n",
              "        const dataTable =\n",
              "          await google.colab.kernel.invokeFunction('convertToInteractive',\n",
              "                                                    [key], {});\n",
              "        if (!dataTable) return;\n",
              "\n",
              "        const docLinkHtml = 'Like what you see? Visit the ' +\n",
              "          '<a target=\"_blank\" href=https://colab.research.google.com/notebooks/data_table.ipynb>data table notebook</a>'\n",
              "          + ' to learn more about interactive tables.';\n",
              "        element.innerHTML = '';\n",
              "        dataTable['output_type'] = 'display_data';\n",
              "        await google.colab.output.renderOutput(dataTable, element);\n",
              "        const docLink = document.createElement('div');\n",
              "        docLink.innerHTML = docLinkHtml;\n",
              "        element.appendChild(docLink);\n",
              "      }\n",
              "    </script>\n",
              "  </div>\n",
              "\n",
              "\n",
              "    <div id=\"df-9cd88fd5-158a-48bc-903a-1c1d346835f6\">\n",
              "      <button class=\"colab-df-quickchart\" onclick=\"quickchart('df-9cd88fd5-158a-48bc-903a-1c1d346835f6')\"\n",
              "                title=\"Suggest charts\"\n",
              "                style=\"display:none;\">\n",
              "\n",
              "<svg xmlns=\"http://www.w3.org/2000/svg\" height=\"24px\"viewBox=\"0 0 24 24\"\n",
              "     width=\"24px\">\n",
              "    <g>\n",
              "        <path d=\"M19 3H5c-1.1 0-2 .9-2 2v14c0 1.1.9 2 2 2h14c1.1 0 2-.9 2-2V5c0-1.1-.9-2-2-2zM9 17H7v-7h2v7zm4 0h-2V7h2v10zm4 0h-2v-4h2v4z\"/>\n",
              "    </g>\n",
              "</svg>\n",
              "      </button>\n",
              "\n",
              "<style>\n",
              "  .colab-df-quickchart {\n",
              "      --bg-color: #E8F0FE;\n",
              "      --fill-color: #1967D2;\n",
              "      --hover-bg-color: #E2EBFA;\n",
              "      --hover-fill-color: #174EA6;\n",
              "      --disabled-fill-color: #AAA;\n",
              "      --disabled-bg-color: #DDD;\n",
              "  }\n",
              "\n",
              "  [theme=dark] .colab-df-quickchart {\n",
              "      --bg-color: #3B4455;\n",
              "      --fill-color: #D2E3FC;\n",
              "      --hover-bg-color: #434B5C;\n",
              "      --hover-fill-color: #FFFFFF;\n",
              "      --disabled-bg-color: #3B4455;\n",
              "      --disabled-fill-color: #666;\n",
              "  }\n",
              "\n",
              "  .colab-df-quickchart {\n",
              "    background-color: var(--bg-color);\n",
              "    border: none;\n",
              "    border-radius: 50%;\n",
              "    cursor: pointer;\n",
              "    display: none;\n",
              "    fill: var(--fill-color);\n",
              "    height: 32px;\n",
              "    padding: 0;\n",
              "    width: 32px;\n",
              "  }\n",
              "\n",
              "  .colab-df-quickchart:hover {\n",
              "    background-color: var(--hover-bg-color);\n",
              "    box-shadow: 0 1px 2px rgba(60, 64, 67, 0.3), 0 1px 3px 1px rgba(60, 64, 67, 0.15);\n",
              "    fill: var(--button-hover-fill-color);\n",
              "  }\n",
              "\n",
              "  .colab-df-quickchart-complete:disabled,\n",
              "  .colab-df-quickchart-complete:disabled:hover {\n",
              "    background-color: var(--disabled-bg-color);\n",
              "    fill: var(--disabled-fill-color);\n",
              "    box-shadow: none;\n",
              "  }\n",
              "\n",
              "  .colab-df-spinner {\n",
              "    border: 2px solid var(--fill-color);\n",
              "    border-color: transparent;\n",
              "    border-bottom-color: var(--fill-color);\n",
              "    animation:\n",
              "      spin 1s steps(1) infinite;\n",
              "  }\n",
              "\n",
              "  @keyframes spin {\n",
              "    0% {\n",
              "      border-color: transparent;\n",
              "      border-bottom-color: var(--fill-color);\n",
              "      border-left-color: var(--fill-color);\n",
              "    }\n",
              "    20% {\n",
              "      border-color: transparent;\n",
              "      border-left-color: var(--fill-color);\n",
              "      border-top-color: var(--fill-color);\n",
              "    }\n",
              "    30% {\n",
              "      border-color: transparent;\n",
              "      border-left-color: var(--fill-color);\n",
              "      border-top-color: var(--fill-color);\n",
              "      border-right-color: var(--fill-color);\n",
              "    }\n",
              "    40% {\n",
              "      border-color: transparent;\n",
              "      border-right-color: var(--fill-color);\n",
              "      border-top-color: var(--fill-color);\n",
              "    }\n",
              "    60% {\n",
              "      border-color: transparent;\n",
              "      border-right-color: var(--fill-color);\n",
              "    }\n",
              "    80% {\n",
              "      border-color: transparent;\n",
              "      border-right-color: var(--fill-color);\n",
              "      border-bottom-color: var(--fill-color);\n",
              "    }\n",
              "    90% {\n",
              "      border-color: transparent;\n",
              "      border-bottom-color: var(--fill-color);\n",
              "    }\n",
              "  }\n",
              "</style>\n",
              "\n",
              "      <script>\n",
              "        async function quickchart(key) {\n",
              "          const quickchartButtonEl =\n",
              "            document.querySelector('#' + key + ' button');\n",
              "          quickchartButtonEl.disabled = true;  // To prevent multiple clicks.\n",
              "          quickchartButtonEl.classList.add('colab-df-spinner');\n",
              "          try {\n",
              "            const charts = await google.colab.kernel.invokeFunction(\n",
              "                'suggestCharts', [key], {});\n",
              "          } catch (error) {\n",
              "            console.error('Error during call to suggestCharts:', error);\n",
              "          }\n",
              "          quickchartButtonEl.classList.remove('colab-df-spinner');\n",
              "          quickchartButtonEl.classList.add('colab-df-quickchart-complete');\n",
              "        }\n",
              "        (() => {\n",
              "          let quickchartButtonEl =\n",
              "            document.querySelector('#df-9cd88fd5-158a-48bc-903a-1c1d346835f6 button');\n",
              "          quickchartButtonEl.style.display =\n",
              "            google.colab.kernel.accessAllowed ? 'block' : 'none';\n",
              "        })();\n",
              "      </script>\n",
              "    </div>\n",
              "\n",
              "    </div>\n",
              "  </div>\n"
            ],
            "application/vnd.google.colaboratory.intrinsic+json": {
              "type": "dataframe",
              "variable_name": "df"
            }
          },
          "metadata": {},
          "execution_count": 46
        }
      ]
    },
    {
      "cell_type": "code",
      "source": [
        "##count Cuenta la cantidad de elementos en la lista\n",
        "\n",
        "lista = ['Jose', 'Alfredo', 'Rojas', 'Mendez']\n",
        "otraLista = []\n",
        "for i in lista:\n",
        "    otraLista.append(i.count('s'))\n",
        "otraLista"
      ],
      "metadata": {
        "colab": {
          "base_uri": "https://localhost:8080/"
        },
        "id": "BXVoT4iHVWM8",
        "outputId": "2e9c8edb-ebb3-48cd-c71b-359fcc49903e"
      },
      "id": "BXVoT4iHVWM8",
      "execution_count": 22,
      "outputs": [
        {
          "output_type": "execute_result",
          "data": {
            "text/plain": [
              "[1, 0, 1, 0]"
            ]
          },
          "metadata": {},
          "execution_count": 22
        }
      ]
    },
    {
      "cell_type": "code",
      "source": [
        "lista = ['a', 'b', 'c']\n",
        "##Copia la lista y se modifica únicamente la nueva lista\n",
        "otraLista = lista.copy()\n",
        "otraLista.append('otro')\n",
        "print(lista, id(lista))\n",
        "print(otraLista, id(otraLista))"
      ],
      "metadata": {
        "colab": {
          "base_uri": "https://localhost:8080/"
        },
        "id": "vSbGnjnXRwhp",
        "outputId": "9a26e3fc-77f8-4365-a980-2430e4ad671a"
      },
      "id": "vSbGnjnXRwhp",
      "execution_count": 5,
      "outputs": [
        {
          "output_type": "stream",
          "name": "stdout",
          "text": [
            "['a', 'b', 'c'] 140154802153984\n",
            "['a', 'b', 'c', 'otro'] 140154802151040\n"
          ]
        }
      ]
    },
    {
      "cell_type": "code",
      "source": [
        "#zfill() Rellena cadena de la longitud que necesito\n",
        "\n",
        "numero = \"4A\"\n",
        "numeroRelleno = numero.zfill(5)\n",
        "numeroRelleno"
      ],
      "metadata": {
        "colab": {
          "base_uri": "https://localhost:8080/",
          "height": 36
        },
        "id": "nVDdi1wIcafS",
        "outputId": "fe11bf48-f093-467a-ea47-c52f39643452"
      },
      "id": "nVDdi1wIcafS",
      "execution_count": 50,
      "outputs": [
        {
          "output_type": "execute_result",
          "data": {
            "text/plain": [
              "'0004A'"
            ],
            "application/vnd.google.colaboratory.intrinsic+json": {
              "type": "string"
            }
          },
          "metadata": {},
          "execution_count": 50
        }
      ]
    },
    {
      "cell_type": "code",
      "source": [
        "##Join une elementos de una lista y convierte a cadena de texto\n",
        "\n",
        "palabras = [\"Jose\", \"Alfredo\", \"Rojas\", \"Mendez\"]\n",
        "frase = \" \".join(palabras)\n",
        "frase"
      ],
      "metadata": {
        "colab": {
          "base_uri": "https://localhost:8080/",
          "height": 36
        },
        "id": "QCba2LEOdPm6",
        "outputId": "cd70e2cb-c546-455a-a025-94da37319543"
      },
      "id": "QCba2LEOdPm6",
      "execution_count": 56,
      "outputs": [
        {
          "output_type": "execute_result",
          "data": {
            "text/plain": [
              "'Jose Alfredo Rojas Mendez'"
            ],
            "application/vnd.google.colaboratory.intrinsic+json": {
              "type": "string"
            }
          },
          "metadata": {},
          "execution_count": 56
        }
      ]
    },
    {
      "cell_type": "code",
      "source": [
        "##split()\n",
        "\n",
        "frase = \"Jose Alfredo Rojas Mendez\"\n",
        "palabras = frase.split()\n",
        "palabras"
      ],
      "metadata": {
        "colab": {
          "base_uri": "https://localhost:8080/"
        },
        "id": "VQHerIBEdqXw",
        "outputId": "b026e137-3cfc-4446-fb13-0e3b1387fa8d"
      },
      "id": "VQHerIBEdqXw",
      "execution_count": 64,
      "outputs": [
        {
          "output_type": "execute_result",
          "data": {
            "text/plain": [
              "['Jose', 'Alfredo', 'Rojas', 'Mendez']"
            ]
          },
          "metadata": {},
          "execution_count": 64
        }
      ]
    },
    {
      "cell_type": "code",
      "source": [
        "texto = \"Si estás progresando en el curso de latín desde cero, ¡estás en el lugar correcto para seguir practicando! A lo largo del curso tienes prácticas de análisis y traducción graduadas y adaptadas a los contenidos teóricos, pero nunca está de más seguir practicando el análisis, la traducción, la lectura… Poco a poco iré publicando vídeos, más o menos detallados, de análisis y traducción de textos latinos fáciles u originales. También iremos haciendo lo mismo con textos para trabajar la lectura directa. Solo si estás bastante avanzado deberías ir a las obras completas sin adaptar.\"\n",
        "buscar = \"en\"\n",
        "palabras = texto.split() ##Separo mi texto mediante el espacio, convierte todo en un lista\n",
        "cuenta = 0 ##Variable donde va a almacenar la cantidad de palabras encontradas\n",
        "for i in palabras:\n",
        "    if i == buscar: ##Si la palabra buscada es igual a cada palabra de la lista\n",
        "        cuenta += 1 ##Suma 1 al encontrar la palabra\n",
        "print(f\"En el texto hay {cuenta} palabras {buscar}\") ##Muestra cuántas palabras encontró"
      ],
      "metadata": {
        "colab": {
          "base_uri": "https://localhost:8080/"
        },
        "id": "fHrq8RrPeO_q",
        "outputId": "9da3ccc6-12d2-4d73-a528-bbe226cbef29"
      },
      "id": "fHrq8RrPeO_q",
      "execution_count": 75,
      "outputs": [
        {
          "output_type": "stream",
          "name": "stdout",
          "text": [
            "En el texto hay 1 palabras Si\n"
          ]
        }
      ]
    },
    {
      "cell_type": "code",
      "source": [
        "texto = \"Si estás progresando en el curso de latín desde cero, ¡estás en el lugar correcto para seguir practicando! A lo largo del curso tienes prácticas de análisis y traducción graduadas y adaptadas a los contenidos teóricos, pero nunca está de más seguir practicando el análisis, la traducción, la lectura… Poco a poco iré publicando vídeos, más o menos detallados, de análisis y traducción de textos latinos fáciles u originales. También iremos haciendo lo mismo con textos para trabajar la lectura directa. Solo si estás bastante avanzado deberías ir a las obras completas sin adaptar.\"\n",
        "buscar = \"a\"\n",
        "palabras = texto.split()\n",
        "print(palabras.count(buscar)) ##Cuenta \"en\" como palabra\n",
        "print(texto.count(buscar)) ##Cuenta \"en\" en cada segmento del texto"
      ],
      "metadata": {
        "colab": {
          "base_uri": "https://localhost:8080/"
        },
        "id": "sbGuf1effrSE",
        "outputId": "a15ebef1-e94a-4a87-fd89-95f4d8cf5890"
      },
      "id": "sbGuf1effrSE",
      "execution_count": 86,
      "outputs": [
        {
          "output_type": "stream",
          "name": "stdout",
          "text": [
            "3\n",
            "58\n"
          ]
        }
      ]
    },
    {
      "cell_type": "code",
      "execution_count": 93,
      "id": "6cec794f",
      "metadata": {
        "id": "6cec794f",
        "outputId": "17b9b395-6907-4d0f-da30-87d57688c61e",
        "colab": {
          "base_uri": "https://localhost:8080/"
        }
      },
      "outputs": [
        {
          "output_type": "stream",
          "name": "stdout",
          "text": [
            "5\n",
            "6\n"
          ]
        }
      ],
      "source": [
        "x = 5\n",
        "y = x\n",
        "y += 1\n",
        "print(x)\n",
        "print(y)"
      ]
    },
    {
      "cell_type": "code",
      "source": [
        "## Ejemplo de unión de números y letras\n",
        "y = []\n",
        "x = [5, 'z', '6', 6]\n",
        "for i in x:\n",
        "    if isinstance(i, int):\n",
        "        y.append(str(i))\n",
        "    else:\n",
        "        y.append(i)\n",
        "y = \"\".join(y)\n",
        "\n",
        "y"
      ],
      "metadata": {
        "colab": {
          "base_uri": "https://localhost:8080/",
          "height": 36
        },
        "id": "RtRJeJKtjAYP",
        "outputId": "5ae0c4e0-9088-4c16-ce6a-8cb053025d2e"
      },
      "id": "RtRJeJKtjAYP",
      "execution_count": 111,
      "outputs": [
        {
          "output_type": "execute_result",
          "data": {
            "text/plain": [
              "'5z66'"
            ],
            "application/vnd.google.colaboratory.intrinsic+json": {
              "type": "string"
            }
          },
          "metadata": {},
          "execution_count": 111
        }
      ]
    },
    {
      "cell_type": "code",
      "execution_count": null,
      "id": "598ac817",
      "metadata": {
        "id": "598ac817"
      },
      "outputs": [],
      "source": [
        "a = 3\n",
        "b = 3"
      ]
    },
    {
      "cell_type": "code",
      "execution_count": null,
      "id": "00691e9a",
      "metadata": {
        "id": "00691e9a",
        "outputId": "d61a0284-238e-4930-b188-1044c29e1d8e"
      },
      "outputs": [
        {
          "data": {
            "text/plain": [
              "3101937658224"
            ]
          },
          "execution_count": 18,
          "metadata": {},
          "output_type": "execute_result"
        }
      ],
      "source": [
        "id(a)"
      ]
    },
    {
      "cell_type": "code",
      "execution_count": null,
      "id": "7c845601",
      "metadata": {
        "id": "7c845601",
        "outputId": "4fb42cff-a656-49f9-b20a-869ffc9628dc"
      },
      "outputs": [
        {
          "data": {
            "text/plain": [
              "3101937658224"
            ]
          },
          "execution_count": 19,
          "metadata": {},
          "output_type": "execute_result"
        }
      ],
      "source": [
        "id(b)"
      ]
    },
    {
      "cell_type": "code",
      "execution_count": null,
      "id": "1b5878c3",
      "metadata": {
        "colab": {
          "base_uri": "https://localhost:8080/"
        },
        "id": "1b5878c3",
        "outputId": "006f68b7-1ddc-45f8-a4f5-7b695d1c6e38"
      },
      "outputs": [
        {
          "output_type": "stream",
          "name": "stdout",
          "text": [
            "('a', 'b', 'c') 139425364315648\n",
            "('a', 'b', 'c', 'otro') 139425365304928\n"
          ]
        }
      ],
      "source": [
        "lista = 'a', 'b', 'c'\n",
        "otraLista = lista\n",
        "otraLista = lista + ('otro',)\n",
        "print(lista, id(lista))\n",
        "print(otraLista, id(otraLista))"
      ]
    },
    {
      "cell_type": "code",
      "execution_count": 112,
      "id": "ac73a27c",
      "metadata": {
        "colab": {
          "base_uri": "https://localhost:8080/"
        },
        "id": "ac73a27c",
        "outputId": "97264274-8417-4c6a-9b4b-a224a27a83bc"
      },
      "outputs": [
        {
          "output_type": "execute_result",
          "data": {
            "text/plain": [
              "[0, 1, 4, 9, 16, 25, 36, 49, 64, 81]"
            ]
          },
          "metadata": {},
          "execution_count": 112
        }
      ],
      "source": [
        "# lista de comprehension\n",
        "## Eleva al cuadrado todos los números de la lista \"numeros\"\n",
        "numeros = [0, 1, 2, 3, 4, 5, 6, 7, 8, 9]\n",
        "pares = [x ** 2 for x in numeros]\n",
        "pares"
      ]
    },
    {
      "cell_type": "code",
      "source": [
        "## Compara cada valor de la lista \"numeros\" y muestra solo los que son pares\n",
        "numeros = [0, 1, 2, 3, 4, 5, 6, 7, 8, 9]\n",
        "pares = [n for n in numeros if n%2 == 0]\n",
        "pares"
      ],
      "metadata": {
        "colab": {
          "base_uri": "https://localhost:8080/"
        },
        "id": "JyZOkQ9zqtWM",
        "outputId": "ba07fdb2-1f56-4f4b-9751-b4029e5391b9"
      },
      "id": "JyZOkQ9zqtWM",
      "execution_count": 113,
      "outputs": [
        {
          "output_type": "execute_result",
          "data": {
            "text/plain": [
              "[0, 2, 4, 6, 8]"
            ]
          },
          "metadata": {},
          "execution_count": 113
        }
      ]
    },
    {
      "cell_type": "code",
      "source": [],
      "metadata": {
        "id": "JnylGavruYRo"
      },
      "id": "JnylGavruYRo",
      "execution_count": null,
      "outputs": []
    },
    {
      "cell_type": "code",
      "source": [
        "numeros = [0, 1, 2, 3, 4, 5, 6, 7, 8, 9]\n",
        "pares = ['par' if n%2 == 0 else 'impar' for n in numeros]\n",
        "pares"
      ],
      "metadata": {
        "id": "MXn0cZtssEG6"
      },
      "id": "MXn0cZtssEG6",
      "execution_count": null,
      "outputs": []
    },
    {
      "cell_type": "code",
      "execution_count": null,
      "id": "ab0b6aea",
      "metadata": {
        "colab": {
          "base_uri": "https://localhost:8080/"
        },
        "id": "ab0b6aea",
        "outputId": "62f7f213-51c3-4d8f-9b47-234ed20f2fbd"
      },
      "outputs": [
        {
          "output_type": "execute_result",
          "data": {
            "text/plain": [
              "[0, 1, 2, 3, 4, 5, 6, 7, 8, 9]"
            ]
          },
          "metadata": {},
          "execution_count": 9
        }
      ],
      "source": [
        "# ejercicio\n",
        "numeros"
      ]
    },
    {
      "cell_type": "code",
      "execution_count": null,
      "id": "3dcde943",
      "metadata": {
        "id": "3dcde943",
        "outputId": "86fd7c9a-56dc-4da5-e02f-b13ec73084d4"
      },
      "outputs": [
        {
          "data": {
            "text/plain": [
              "{'Carlos': 30, 'Camila': 28, 'Mona': 27}"
            ]
          },
          "execution_count": 47,
          "metadata": {},
          "output_type": "execute_result"
        }
      ],
      "source": [
        "# lista de comprehension\n",
        "dicc = {'Carlos' : 30, 'Stefa' : 26, 'Camila' : 28, 'Mona' : 27}\n",
        "geriatrico = {nombre : edad for nombre, edad in dicc.items() if edad >= 27}\n",
        "geriatrico\n"
      ]
    },
    {
      "cell_type": "markdown",
      "id": "8c01e47a",
      "metadata": {
        "id": "8c01e47a"
      },
      "source": [
        "### Directorio"
      ]
    },
    {
      "cell_type": "code",
      "execution_count": 120,
      "id": "9b3d70be",
      "metadata": {
        "id": "9b3d70be"
      },
      "outputs": [],
      "source": [
        "aleja = {'viajar', 'leer', 'cine', 'python'}\n",
        "oswal = {'videojuegos', 'leer', 'python', 'deportes'}\n",
        "dania = {'puzzles', 'viajar', 'python', 'R'}\n",
        "danni = {'python', 'fotografía', 'cocina', 'viajar'}"
      ]
    },
    {
      "cell_type": "code",
      "execution_count": 115,
      "id": "eb8291c0",
      "metadata": {
        "colab": {
          "base_uri": "https://localhost:8080/"
        },
        "id": "eb8291c0",
        "outputId": "2fc219de-a4d0-4f59-d305-aed437db0568"
      },
      "outputs": [
        {
          "output_type": "execute_result",
          "data": {
            "text/plain": [
              "{'leer', 'python'}"
            ]
          },
          "metadata": {},
          "execution_count": 115
        }
      ],
      "source": [
        "aleja & oswal ## intersección"
      ]
    },
    {
      "cell_type": "code",
      "execution_count": 116,
      "id": "5aa2546d",
      "metadata": {
        "colab": {
          "base_uri": "https://localhost:8080/"
        },
        "id": "5aa2546d",
        "outputId": "42a53635-d5e9-42f2-ae1f-d264fa418c60"
      },
      "outputs": [
        {
          "output_type": "execute_result",
          "data": {
            "text/plain": [
              "{'cine', 'deportes', 'leer', 'python', 'viajar', 'videojuegos'}"
            ]
          },
          "metadata": {},
          "execution_count": 116
        }
      ],
      "source": [
        "aleja | oswal ## unión (+)"
      ]
    },
    {
      "cell_type": "code",
      "execution_count": 117,
      "id": "a8bbefbb",
      "metadata": {
        "colab": {
          "base_uri": "https://localhost:8080/"
        },
        "id": "a8bbefbb",
        "outputId": "2b53f36e-26d9-41a9-982b-768d5742fae6"
      },
      "outputs": [
        {
          "output_type": "execute_result",
          "data": {
            "text/plain": [
              "{'cocina', 'fotografía'}"
            ]
          },
          "metadata": {},
          "execution_count": 117
        }
      ],
      "source": [
        "danni - dania ## diferencia, qué tiene danni que no tiene dania"
      ]
    },
    {
      "cell_type": "code",
      "execution_count": 118,
      "id": "5e1792f2",
      "metadata": {
        "id": "5e1792f2",
        "outputId": "5752b50e-d821-4fd2-9b7c-d1f90dbb5958",
        "colab": {
          "base_uri": "https://localhost:8080/"
        }
      },
      "outputs": [
        {
          "output_type": "execute_result",
          "data": {
            "text/plain": [
              "{'R', 'puzzles'}"
            ]
          },
          "metadata": {},
          "execution_count": 118
        }
      ],
      "source": [
        "dania - danni ## diferencia, qué tiene dania que no tiene danni"
      ]
    },
    {
      "cell_type": "code",
      "execution_count": 121,
      "id": "d1917b55",
      "metadata": {
        "id": "d1917b55",
        "colab": {
          "base_uri": "https://localhost:8080/"
        },
        "outputId": "40547b47-bc75-408b-ad06-21104aaa8ef3"
      },
      "outputs": [
        {
          "output_type": "execute_result",
          "data": {
            "text/plain": [
              "{'R', 'cocina', 'fotografía', 'puzzles'}"
            ]
          },
          "metadata": {},
          "execution_count": 121
        }
      ],
      "source": [
        "dania ^ danni ## que hay en ambos sacando los comúnes"
      ]
    },
    {
      "cell_type": "code",
      "execution_count": 123,
      "id": "c167f04d",
      "metadata": {
        "id": "c167f04d"
      },
      "outputs": [],
      "source": [
        "## teléfonos\n",
        "aleja_tel = ['300 123 4567', '601 555 0001']\n",
        "oswal_tel = ['301 123 4567', '601 555 0002']\n",
        "dania_tel = ['302 123 4567', '601 555 0003']\n",
        "danni_tel = ['303 123 4567', '601 555 0004']\n",
        "\n",
        "## email\n",
        "aleja_correo = ['aleja@uncentral.edu.co', 'aleja@yopmail.com']\n",
        "oswal_correo = ['owsal@uncentral.edu.co', 'oswal@yopmail.com']\n",
        "dania_correo = ['dania@uncentral.edu.co', 'dania@yopmail.com']\n",
        "danni_correo = ['danni@uncentral.edu.co', 'danni@yopmail.com']"
      ]
    },
    {
      "cell_type": "code",
      "execution_count": 125,
      "id": "6ff7182c",
      "metadata": {
        "id": "6ff7182c"
      },
      "outputs": [],
      "source": [
        "alejandra = [aleja_tel, aleja_correo, aleja]\n",
        "oswaldo = [oswal_tel, oswal_correo, oswal]\n",
        "daniana = [dania_tel, dania_correo, dania]\n",
        "danniel = [danni_tel, danni_correo, danni]"
      ]
    },
    {
      "cell_type": "code",
      "execution_count": 126,
      "id": "1ec33498",
      "metadata": {
        "id": "1ec33498",
        "outputId": "cdd0c405-e1f5-478e-a633-48a5ad44f265",
        "colab": {
          "base_uri": "https://localhost:8080/"
        }
      },
      "outputs": [
        {
          "output_type": "execute_result",
          "data": {
            "text/plain": [
              "[[['300 123 4567', '601 555 0001'],\n",
              "  ['aleja@uncentral.edu.co', 'aleja@yopmail.com'],\n",
              "  {'cine', 'leer', 'python', 'viajar'}],\n",
              " [['301 123 4567', '601 555 0002'],\n",
              "  ['owsal@uncentral.edu.co', 'oswal@yopmail.com'],\n",
              "  {'deportes', 'leer', 'python', 'videojuegos'}],\n",
              " [['302 123 4567', '601 555 0003'],\n",
              "  ['dania@uncentral.edu.co', 'dania@yopmail.com'],\n",
              "  {'R', 'puzzles', 'python', 'viajar'}],\n",
              " [['303 123 4567', '601 555 0004'],\n",
              "  ['danni@uncentral.edu.co', 'danni@yopmail.com'],\n",
              "  {'cocina', 'fotografía', 'python', 'viajar'}]]"
            ]
          },
          "metadata": {},
          "execution_count": 126
        }
      ],
      "source": [
        "directorio = [alejandra, oswaldo, daniana, danniel]\n",
        "directorio"
      ]
    },
    {
      "cell_type": "code",
      "source": [
        "directorio[0]"
      ],
      "metadata": {
        "colab": {
          "base_uri": "https://localhost:8080/"
        },
        "id": "zAxRTCfDz-Br",
        "outputId": "e65fa670-7469-4b08-ab3d-99353264d74c"
      },
      "id": "zAxRTCfDz-Br",
      "execution_count": 127,
      "outputs": [
        {
          "output_type": "execute_result",
          "data": {
            "text/plain": [
              "[['300 123 4567', '601 555 0001'],\n",
              " ['aleja@uncentral.edu.co', 'aleja@yopmail.com'],\n",
              " {'cine', 'leer', 'python', 'viajar'}]"
            ]
          },
          "metadata": {},
          "execution_count": 127
        }
      ]
    },
    {
      "cell_type": "code",
      "source": [
        "directorio[0][0]"
      ],
      "metadata": {
        "colab": {
          "base_uri": "https://localhost:8080/"
        },
        "id": "_wmXbVR00Gnm",
        "outputId": "a8bb10b4-e8ea-4f2f-c48e-02bf21eff770"
      },
      "id": "_wmXbVR00Gnm",
      "execution_count": 130,
      "outputs": [
        {
          "output_type": "execute_result",
          "data": {
            "text/plain": [
              "['300 123 4567', '601 555 0001']"
            ]
          },
          "metadata": {},
          "execution_count": 130
        }
      ]
    },
    {
      "cell_type": "code",
      "source": [
        "directorio[1][1][0]"
      ],
      "metadata": {
        "colab": {
          "base_uri": "https://localhost:8080/",
          "height": 36
        },
        "id": "4ZIDCXft0NCI",
        "outputId": "d91e1067-7ea8-436b-a218-ce6672f52e8a"
      },
      "id": "4ZIDCXft0NCI",
      "execution_count": 137,
      "outputs": [
        {
          "output_type": "execute_result",
          "data": {
            "text/plain": [
              "'owsal@uncentral.edu.co'"
            ],
            "application/vnd.google.colaboratory.intrinsic+json": {
              "type": "string"
            }
          },
          "metadata": {},
          "execution_count": 137
        }
      ]
    },
    {
      "cell_type": "code",
      "execution_count": null,
      "id": "446e475a",
      "metadata": {
        "id": "446e475a",
        "outputId": "aeaf7f70-a841-4006-9446-d51556b75f49"
      },
      "outputs": [
        {
          "data": {
            "text/plain": [
              "'oswal@yopmail.com'"
            ]
          },
          "execution_count": 76,
          "metadata": {},
          "output_type": "execute_result"
        }
      ],
      "source": [
        "directorio[1][1][1]"
      ]
    },
    {
      "cell_type": "code",
      "execution_count": 141,
      "id": "7dfc6d5a",
      "metadata": {
        "id": "7dfc6d5a",
        "outputId": "f92550d9-25e2-41fe-cb5c-44388981db28",
        "colab": {
          "base_uri": "https://localhost:8080/"
        }
      },
      "outputs": [
        {
          "output_type": "execute_result",
          "data": {
            "text/plain": [
              "{'cine', 'leer', 'python', 'viajar'}"
            ]
          },
          "metadata": {},
          "execution_count": 141
        }
      ],
      "source": [
        "directorio[0][2]"
      ]
    },
    {
      "cell_type": "code",
      "execution_count": 147,
      "id": "88d52df8",
      "metadata": {
        "id": "88d52df8"
      },
      "outputs": [],
      "source": [
        "directorio[0][2].add('carros')"
      ]
    },
    {
      "cell_type": "code",
      "execution_count": 148,
      "id": "fd5ae3f4",
      "metadata": {
        "id": "fd5ae3f4",
        "outputId": "8916662d-b92a-41b8-ddf0-dec387a3f212",
        "colab": {
          "base_uri": "https://localhost:8080/"
        }
      },
      "outputs": [
        {
          "output_type": "execute_result",
          "data": {
            "text/plain": [
              "{'carros', 'cine', 'leer', 'python', 'viajar'}"
            ]
          },
          "metadata": {},
          "execution_count": 148
        }
      ],
      "source": [
        "directorio[0][2]"
      ]
    },
    {
      "cell_type": "code",
      "execution_count": 157,
      "id": "21cd33b9",
      "metadata": {
        "id": "21cd33b9"
      },
      "outputs": [],
      "source": [
        "directorio[0][2].remove('carros')"
      ]
    },
    {
      "cell_type": "code",
      "execution_count": 159,
      "id": "39599aaf",
      "metadata": {
        "id": "39599aaf"
      },
      "outputs": [],
      "source": [
        "directorio[0][2].remove('python')"
      ]
    },
    {
      "cell_type": "code",
      "execution_count": 160,
      "id": "a9c97049",
      "metadata": {
        "id": "a9c97049",
        "colab": {
          "base_uri": "https://localhost:8080/"
        },
        "outputId": "ed390dc8-8306-4409-990e-c988abbbe49f"
      },
      "outputs": [
        {
          "output_type": "execute_result",
          "data": {
            "text/plain": [
              "{'cine', 'leer', 'viajar'}"
            ]
          },
          "metadata": {},
          "execution_count": 160
        }
      ],
      "source": [
        "directorio[0][2]"
      ]
    },
    {
      "cell_type": "code",
      "execution_count": 161,
      "id": "e8c1522a",
      "metadata": {
        "id": "e8c1522a"
      },
      "outputs": [],
      "source": [
        "directorio[0][2].add('python')"
      ]
    },
    {
      "cell_type": "code",
      "execution_count": 162,
      "id": "2ca50843",
      "metadata": {
        "id": "2ca50843",
        "colab": {
          "base_uri": "https://localhost:8080/"
        },
        "outputId": "105695b0-cb0d-44d5-fee1-223900f687bd"
      },
      "outputs": [
        {
          "output_type": "execute_result",
          "data": {
            "text/plain": [
              "{'cine', 'leer', 'python', 'viajar'}"
            ]
          },
          "metadata": {},
          "execution_count": 162
        }
      ],
      "source": [
        "directorio[0][2]"
      ]
    }
  ],
  "metadata": {
    "kernelspec": {
      "display_name": "Python 3 (ipykernel)",
      "language": "python",
      "name": "python3"
    },
    "language_info": {
      "codemirror_mode": {
        "name": "ipython",
        "version": 3
      },
      "file_extension": ".py",
      "mimetype": "text/x-python",
      "name": "python",
      "nbconvert_exporter": "python",
      "pygments_lexer": "ipython3",
      "version": "3.9.12"
    },
    "colab": {
      "provenance": []
    }
  },
  "nbformat": 4,
  "nbformat_minor": 5
}